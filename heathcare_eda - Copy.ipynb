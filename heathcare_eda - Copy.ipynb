{
 "cells": [
  {
   "cell_type": "markdown",
   "id": "c5f18abf-7bc2-4e5a-81f9-2d82bd035315",
   "metadata": {},
   "source": [
    "## <b>  Project Roadmap\n",
    "1. Data exploration\n",
    "2. Descriptive analysis\n",
    "3. Explanatory data analysis\n",
    "4. Data cleaning\n",
    "5. Feature engineering\n",
    "6. Model development and refining"
   ]
  },
  {
   "cell_type": "code",
   "execution_count": 1,
   "id": "ac092584-9b48-4cdb-8573-04e68ac92baf",
   "metadata": {},
   "outputs": [],
   "source": [
    "#Importing the libraries for data exploration. \n",
    "import pandas as pd \n",
    "import numpy as np \n",
    "import matplotlib.pyplot as plt\n",
    "import seaborn as sns \n",
    "\n",
    "import warnings\n",
    "warnings.filterwarnings('ignore')"
   ]
  },
  {
   "cell_type": "markdown",
   "id": "46d84739-f2a3-42c4-843c-18fdb51b6221",
   "metadata": {},
   "source": [
    "## <b> Data Loading & Exploration."
   ]
  },
  {
   "cell_type": "code",
   "execution_count": 2,
   "id": "9c76e8e5-18ae-4932-8b40-d4a8a387d7a1",
   "metadata": {},
   "outputs": [
    {
     "data": {
      "text/html": [
       "<div>\n",
       "<style scoped>\n",
       "    .dataframe tbody tr th:only-of-type {\n",
       "        vertical-align: middle;\n",
       "    }\n",
       "\n",
       "    .dataframe tbody tr th {\n",
       "        vertical-align: top;\n",
       "    }\n",
       "\n",
       "    .dataframe thead th {\n",
       "        text-align: right;\n",
       "    }\n",
       "</style>\n",
       "<table border=\"1\" class=\"dataframe\">\n",
       "  <thead>\n",
       "    <tr style=\"text-align: right;\">\n",
       "      <th></th>\n",
       "      <th>Name</th>\n",
       "      <th>Age</th>\n",
       "      <th>Gender</th>\n",
       "      <th>Blood Type</th>\n",
       "      <th>Medical Condition</th>\n",
       "      <th>Date of Admission</th>\n",
       "      <th>Doctor</th>\n",
       "      <th>Hospital</th>\n",
       "      <th>Insurance Provider</th>\n",
       "      <th>Billing Amount</th>\n",
       "      <th>Room Number</th>\n",
       "      <th>Admission Type</th>\n",
       "      <th>Discharge Date</th>\n",
       "      <th>Medication</th>\n",
       "      <th>Test Results</th>\n",
       "    </tr>\n",
       "  </thead>\n",
       "  <tbody>\n",
       "    <tr>\n",
       "      <th>0</th>\n",
       "      <td>Bobby JacksOn</td>\n",
       "      <td>30</td>\n",
       "      <td>Male</td>\n",
       "      <td>B-</td>\n",
       "      <td>Cancer</td>\n",
       "      <td>31/1/2024</td>\n",
       "      <td>Matthew Smith</td>\n",
       "      <td>Sons and Miller</td>\n",
       "      <td>Blue Cross</td>\n",
       "      <td>18856.28131</td>\n",
       "      <td>328</td>\n",
       "      <td>Urgent</td>\n",
       "      <td>2/2/2024</td>\n",
       "      <td>Paracetamol</td>\n",
       "      <td>Normal</td>\n",
       "    </tr>\n",
       "    <tr>\n",
       "      <th>1</th>\n",
       "      <td>LesLie TErRy</td>\n",
       "      <td>62</td>\n",
       "      <td>Male</td>\n",
       "      <td>A+</td>\n",
       "      <td>Obesity</td>\n",
       "      <td>20/8/2019</td>\n",
       "      <td>Samantha Davies</td>\n",
       "      <td>Kim Inc</td>\n",
       "      <td>Medicare</td>\n",
       "      <td>33643.32729</td>\n",
       "      <td>265</td>\n",
       "      <td>Emergency</td>\n",
       "      <td>26/8/2019</td>\n",
       "      <td>Ibuprofen</td>\n",
       "      <td>Inconclusive</td>\n",
       "    </tr>\n",
       "    <tr>\n",
       "      <th>2</th>\n",
       "      <td>DaNnY sMitH</td>\n",
       "      <td>76</td>\n",
       "      <td>Female</td>\n",
       "      <td>A-</td>\n",
       "      <td>Obesity</td>\n",
       "      <td>22/9/2022</td>\n",
       "      <td>Tiffany Mitchell</td>\n",
       "      <td>Cook PLC</td>\n",
       "      <td>Aetna</td>\n",
       "      <td>27955.09608</td>\n",
       "      <td>205</td>\n",
       "      <td>Emergency</td>\n",
       "      <td>7/10/2022</td>\n",
       "      <td>Aspirin</td>\n",
       "      <td>Normal</td>\n",
       "    </tr>\n",
       "    <tr>\n",
       "      <th>3</th>\n",
       "      <td>andrEw waTtS</td>\n",
       "      <td>28</td>\n",
       "      <td>Female</td>\n",
       "      <td>O+</td>\n",
       "      <td>Diabetes</td>\n",
       "      <td>18/11/2020</td>\n",
       "      <td>Kevin Wells</td>\n",
       "      <td>Hernandez Rogers and Vang,</td>\n",
       "      <td>Medicare</td>\n",
       "      <td>37909.78241</td>\n",
       "      <td>450</td>\n",
       "      <td>Elective</td>\n",
       "      <td>18/12/2020</td>\n",
       "      <td>Ibuprofen</td>\n",
       "      <td>Abnormal</td>\n",
       "    </tr>\n",
       "    <tr>\n",
       "      <th>4</th>\n",
       "      <td>adrIENNE bEll</td>\n",
       "      <td>43</td>\n",
       "      <td>Female</td>\n",
       "      <td>AB+</td>\n",
       "      <td>Cancer</td>\n",
       "      <td>19/9/2022</td>\n",
       "      <td>Kathleen Hanna</td>\n",
       "      <td>White-White</td>\n",
       "      <td>Aetna</td>\n",
       "      <td>14238.31781</td>\n",
       "      <td>458</td>\n",
       "      <td>Urgent</td>\n",
       "      <td>9/10/2022</td>\n",
       "      <td>Penicillin</td>\n",
       "      <td>Abnormal</td>\n",
       "    </tr>\n",
       "  </tbody>\n",
       "</table>\n",
       "</div>"
      ],
      "text/plain": [
       "            Name  Age  Gender Blood Type Medical Condition Date of Admission  \\\n",
       "0  Bobby JacksOn   30    Male         B-            Cancer         31/1/2024   \n",
       "1   LesLie TErRy   62    Male         A+           Obesity         20/8/2019   \n",
       "2    DaNnY sMitH   76  Female         A-           Obesity         22/9/2022   \n",
       "3   andrEw waTtS   28  Female         O+          Diabetes        18/11/2020   \n",
       "4  adrIENNE bEll   43  Female        AB+            Cancer         19/9/2022   \n",
       "\n",
       "             Doctor                    Hospital Insurance Provider  \\\n",
       "0     Matthew Smith             Sons and Miller         Blue Cross   \n",
       "1   Samantha Davies                     Kim Inc           Medicare   \n",
       "2  Tiffany Mitchell                    Cook PLC              Aetna   \n",
       "3       Kevin Wells  Hernandez Rogers and Vang,           Medicare   \n",
       "4    Kathleen Hanna                 White-White              Aetna   \n",
       "\n",
       "   Billing Amount  Room Number Admission Type Discharge Date   Medication  \\\n",
       "0     18856.28131          328         Urgent       2/2/2024  Paracetamol   \n",
       "1     33643.32729          265      Emergency      26/8/2019    Ibuprofen   \n",
       "2     27955.09608          205      Emergency      7/10/2022      Aspirin   \n",
       "3     37909.78241          450       Elective     18/12/2020    Ibuprofen   \n",
       "4     14238.31781          458         Urgent      9/10/2022   Penicillin   \n",
       "\n",
       "   Test Results  \n",
       "0        Normal  \n",
       "1  Inconclusive  \n",
       "2        Normal  \n",
       "3      Abnormal  \n",
       "4      Abnormal  "
      ]
     },
     "execution_count": 2,
     "metadata": {},
     "output_type": "execute_result"
    }
   ],
   "source": [
    "df = pd.read_csv(\"healthcare_dataset.csv\")\n",
    "df.head()"
   ]
  },
  {
   "cell_type": "code",
   "execution_count": 3,
   "id": "008ca2e5-7728-41dc-b43f-b428002951ab",
   "metadata": {},
   "outputs": [
    {
     "data": {
      "text/plain": [
       "(55500, 15)"
      ]
     },
     "execution_count": 3,
     "metadata": {},
     "output_type": "execute_result"
    }
   ],
   "source": [
    "df.shape"
   ]
  },
  {
   "cell_type": "code",
   "execution_count": 4,
   "id": "497c2951-c11b-4ce9-ad24-50fe1ad0de88",
   "metadata": {},
   "outputs": [
    {
     "data": {
      "text/plain": [
       "Index(['Name', 'Age', 'Gender', 'Blood Type', 'Medical Condition',\n",
       "       'Date of Admission', 'Doctor', 'Hospital', 'Insurance Provider',\n",
       "       'Billing Amount', 'Room Number', 'Admission Type', 'Discharge Date',\n",
       "       'Medication', 'Test Results'],\n",
       "      dtype='object')"
      ]
     },
     "execution_count": 4,
     "metadata": {},
     "output_type": "execute_result"
    }
   ],
   "source": [
    "df.columns"
   ]
  },
  {
   "cell_type": "code",
   "execution_count": 5,
   "id": "0291181c-ce47-4d2a-96fa-6536b5e53b95",
   "metadata": {},
   "outputs": [
    {
     "data": {
      "text/plain": [
       "Name                   object\n",
       "Age                     int64\n",
       "Gender                 object\n",
       "Blood Type             object\n",
       "Medical Condition      object\n",
       "Date of Admission      object\n",
       "Doctor                 object\n",
       "Hospital               object\n",
       "Insurance Provider     object\n",
       "Billing Amount        float64\n",
       "Room Number             int64\n",
       "Admission Type         object\n",
       "Discharge Date         object\n",
       "Medication             object\n",
       "Test Results           object\n",
       "dtype: object"
      ]
     },
     "execution_count": 5,
     "metadata": {},
     "output_type": "execute_result"
    }
   ],
   "source": [
    "df.dtypes"
   ]
  },
  {
   "cell_type": "code",
   "execution_count": 6,
   "id": "0d05662b-ddb5-4145-8e97-1e3de21ea7bb",
   "metadata": {},
   "outputs": [
    {
     "data": {
      "text/plain": [
       "Name                  49992\n",
       "Age                      77\n",
       "Gender                    2\n",
       "Blood Type                8\n",
       "Medical Condition         6\n",
       "Date of Admission      1827\n",
       "Doctor                40341\n",
       "Hospital              39876\n",
       "Insurance Provider        5\n",
       "Billing Amount        50000\n",
       "Room Number             400\n",
       "Admission Type            3\n",
       "Discharge Date         1856\n",
       "Medication                5\n",
       "Test Results              3\n",
       "dtype: int64"
      ]
     },
     "execution_count": 6,
     "metadata": {},
     "output_type": "execute_result"
    }
   ],
   "source": [
    "df.nunique()"
   ]
  },
  {
   "cell_type": "code",
   "execution_count": 7,
   "id": "001370dc-10e9-47b1-a631-e504ce190409",
   "metadata": {},
   "outputs": [
    {
     "name": "stdout",
     "output_type": "stream",
     "text": [
      "<class 'pandas.core.frame.DataFrame'>\n",
      "RangeIndex: 55500 entries, 0 to 55499\n",
      "Data columns (total 15 columns):\n",
      " #   Column              Non-Null Count  Dtype  \n",
      "---  ------              --------------  -----  \n",
      " 0   Name                55500 non-null  object \n",
      " 1   Age                 55500 non-null  int64  \n",
      " 2   Gender              55500 non-null  object \n",
      " 3   Blood Type          55500 non-null  object \n",
      " 4   Medical Condition   55500 non-null  object \n",
      " 5   Date of Admission   55500 non-null  object \n",
      " 6   Doctor              55500 non-null  object \n",
      " 7   Hospital            55500 non-null  object \n",
      " 8   Insurance Provider  55500 non-null  object \n",
      " 9   Billing Amount      55500 non-null  float64\n",
      " 10  Room Number         55500 non-null  int64  \n",
      " 11  Admission Type      55500 non-null  object \n",
      " 12  Discharge Date      55500 non-null  object \n",
      " 13  Medication          55500 non-null  object \n",
      " 14  Test Results        55500 non-null  object \n",
      "dtypes: float64(1), int64(2), object(12)\n",
      "memory usage: 6.4+ MB\n"
     ]
    }
   ],
   "source": [
    "df.info()"
   ]
  },
  {
   "cell_type": "markdown",
   "id": "7cc3921e-f28d-4e57-8dc3-8bab325b63d5",
   "metadata": {},
   "source": [
    "## <b> Descriptive statistics for numeric variables \n",
    "1. check for summary analysis of the variables\n",
    "2. check the skewness of data\n",
    "3. to review how the data spread over the dataset"
   ]
  },
  {
   "cell_type": "code",
   "execution_count": 8,
   "id": "24a8ba48-4957-417a-8470-5586693c5ae2",
   "metadata": {},
   "outputs": [
    {
     "data": {
      "text/html": [
       "<div>\n",
       "<style scoped>\n",
       "    .dataframe tbody tr th:only-of-type {\n",
       "        vertical-align: middle;\n",
       "    }\n",
       "\n",
       "    .dataframe tbody tr th {\n",
       "        vertical-align: top;\n",
       "    }\n",
       "\n",
       "    .dataframe thead th {\n",
       "        text-align: right;\n",
       "    }\n",
       "</style>\n",
       "<table border=\"1\" class=\"dataframe\">\n",
       "  <thead>\n",
       "    <tr style=\"text-align: right;\">\n",
       "      <th></th>\n",
       "      <th>Age</th>\n",
       "      <th>Billing Amount</th>\n",
       "      <th>Room Number</th>\n",
       "    </tr>\n",
       "  </thead>\n",
       "  <tbody>\n",
       "    <tr>\n",
       "      <th>count</th>\n",
       "      <td>55500.000000</td>\n",
       "      <td>55500.000000</td>\n",
       "      <td>55500.000000</td>\n",
       "    </tr>\n",
       "    <tr>\n",
       "      <th>mean</th>\n",
       "      <td>51.539459</td>\n",
       "      <td>25539.316097</td>\n",
       "      <td>301.134829</td>\n",
       "    </tr>\n",
       "    <tr>\n",
       "      <th>std</th>\n",
       "      <td>19.602454</td>\n",
       "      <td>14211.454431</td>\n",
       "      <td>115.243069</td>\n",
       "    </tr>\n",
       "    <tr>\n",
       "      <th>min</th>\n",
       "      <td>13.000000</td>\n",
       "      <td>-2008.492140</td>\n",
       "      <td>101.000000</td>\n",
       "    </tr>\n",
       "    <tr>\n",
       "      <th>25%</th>\n",
       "      <td>35.000000</td>\n",
       "      <td>13241.224655</td>\n",
       "      <td>202.000000</td>\n",
       "    </tr>\n",
       "    <tr>\n",
       "      <th>50%</th>\n",
       "      <td>52.000000</td>\n",
       "      <td>25538.069380</td>\n",
       "      <td>302.000000</td>\n",
       "    </tr>\n",
       "    <tr>\n",
       "      <th>75%</th>\n",
       "      <td>68.000000</td>\n",
       "      <td>37820.508432</td>\n",
       "      <td>401.000000</td>\n",
       "    </tr>\n",
       "    <tr>\n",
       "      <th>max</th>\n",
       "      <td>89.000000</td>\n",
       "      <td>52764.276740</td>\n",
       "      <td>500.000000</td>\n",
       "    </tr>\n",
       "  </tbody>\n",
       "</table>\n",
       "</div>"
      ],
      "text/plain": [
       "                Age  Billing Amount   Room Number\n",
       "count  55500.000000    55500.000000  55500.000000\n",
       "mean      51.539459    25539.316097    301.134829\n",
       "std       19.602454    14211.454431    115.243069\n",
       "min       13.000000    -2008.492140    101.000000\n",
       "25%       35.000000    13241.224655    202.000000\n",
       "50%       52.000000    25538.069380    302.000000\n",
       "75%       68.000000    37820.508432    401.000000\n",
       "max       89.000000    52764.276740    500.000000"
      ]
     },
     "execution_count": 8,
     "metadata": {},
     "output_type": "execute_result"
    }
   ],
   "source": [
    "df.describe()"
   ]
  },
  {
   "cell_type": "markdown",
   "id": "7b153dac-8b73-4e8e-9e81-ed102f8336e9",
   "metadata": {},
   "source": [
    "<b> The distribution of AGE and BILLING values is widely spread with the standard deviation of both varibables being higher. <br> \n",
    "    They both right skewed with longer right tails <br>\n",
    "    This looks like a uniform or evenly distributed variable, possibly assigned sequentially. Not much skew."
   ]
  },
  {
   "cell_type": "code",
   "execution_count": 9,
   "id": "36ea81ce-b2f0-4c53-b5a5-11e6a6dae2af",
   "metadata": {},
   "outputs": [
    {
     "data": {
      "text/html": [
       "<div>\n",
       "<style scoped>\n",
       "    .dataframe tbody tr th:only-of-type {\n",
       "        vertical-align: middle;\n",
       "    }\n",
       "\n",
       "    .dataframe tbody tr th {\n",
       "        vertical-align: top;\n",
       "    }\n",
       "\n",
       "    .dataframe thead th {\n",
       "        text-align: right;\n",
       "    }\n",
       "</style>\n",
       "<table border=\"1\" class=\"dataframe\">\n",
       "  <thead>\n",
       "    <tr style=\"text-align: right;\">\n",
       "      <th></th>\n",
       "      <th>Name</th>\n",
       "      <th>Gender</th>\n",
       "      <th>Blood Type</th>\n",
       "      <th>Medical Condition</th>\n",
       "      <th>Date of Admission</th>\n",
       "      <th>Doctor</th>\n",
       "      <th>Hospital</th>\n",
       "      <th>Insurance Provider</th>\n",
       "      <th>Admission Type</th>\n",
       "      <th>Discharge Date</th>\n",
       "      <th>Medication</th>\n",
       "      <th>Test Results</th>\n",
       "    </tr>\n",
       "  </thead>\n",
       "  <tbody>\n",
       "    <tr>\n",
       "      <th>count</th>\n",
       "      <td>55500</td>\n",
       "      <td>55500</td>\n",
       "      <td>55500</td>\n",
       "      <td>55500</td>\n",
       "      <td>55500</td>\n",
       "      <td>55500</td>\n",
       "      <td>55500</td>\n",
       "      <td>55500</td>\n",
       "      <td>55500</td>\n",
       "      <td>55500</td>\n",
       "      <td>55500</td>\n",
       "      <td>55500</td>\n",
       "    </tr>\n",
       "    <tr>\n",
       "      <th>unique</th>\n",
       "      <td>49992</td>\n",
       "      <td>2</td>\n",
       "      <td>8</td>\n",
       "      <td>6</td>\n",
       "      <td>1827</td>\n",
       "      <td>40341</td>\n",
       "      <td>39876</td>\n",
       "      <td>5</td>\n",
       "      <td>3</td>\n",
       "      <td>1856</td>\n",
       "      <td>5</td>\n",
       "      <td>3</td>\n",
       "    </tr>\n",
       "    <tr>\n",
       "      <th>top</th>\n",
       "      <td>DAvId muNoZ</td>\n",
       "      <td>Male</td>\n",
       "      <td>A-</td>\n",
       "      <td>Arthritis</td>\n",
       "      <td>16/3/2024</td>\n",
       "      <td>Michael Smith</td>\n",
       "      <td>LLC Smith</td>\n",
       "      <td>Cigna</td>\n",
       "      <td>Elective</td>\n",
       "      <td>15/3/2020</td>\n",
       "      <td>Lipitor</td>\n",
       "      <td>Abnormal</td>\n",
       "    </tr>\n",
       "    <tr>\n",
       "      <th>freq</th>\n",
       "      <td>3</td>\n",
       "      <td>27774</td>\n",
       "      <td>6969</td>\n",
       "      <td>9308</td>\n",
       "      <td>50</td>\n",
       "      <td>27</td>\n",
       "      <td>44</td>\n",
       "      <td>11249</td>\n",
       "      <td>18655</td>\n",
       "      <td>53</td>\n",
       "      <td>11140</td>\n",
       "      <td>18627</td>\n",
       "    </tr>\n",
       "  </tbody>\n",
       "</table>\n",
       "</div>"
      ],
      "text/plain": [
       "               Name Gender Blood Type Medical Condition Date of Admission  \\\n",
       "count         55500  55500      55500             55500             55500   \n",
       "unique        49992      2          8                 6              1827   \n",
       "top     DAvId muNoZ   Male         A-         Arthritis         16/3/2024   \n",
       "freq              3  27774       6969              9308                50   \n",
       "\n",
       "               Doctor   Hospital Insurance Provider Admission Type  \\\n",
       "count           55500      55500              55500          55500   \n",
       "unique          40341      39876                  5              3   \n",
       "top     Michael Smith  LLC Smith              Cigna       Elective   \n",
       "freq               27         44              11249          18655   \n",
       "\n",
       "       Discharge Date Medication Test Results  \n",
       "count           55500      55500        55500  \n",
       "unique           1856          5            3  \n",
       "top         15/3/2020    Lipitor     Abnormal  \n",
       "freq               53      11140        18627  "
      ]
     },
     "execution_count": 9,
     "metadata": {},
     "output_type": "execute_result"
    }
   ],
   "source": [
    "df.describe(include=\"object\")"
   ]
  },
  {
   "cell_type": "markdown",
   "id": "9ad72454-ad1d-4b14-ae15-9efd3b1b639e",
   "metadata": {},
   "source": [
    "<b> The describe with object included reviews all variables including the categorical variables.<br>\n",
    "    As shown above the metrics to measue this time unclude the verification of number of unique values in each variable, checking the frequency also of the most appearing alue in each variable. "
   ]
  },
  {
   "cell_type": "code",
   "execution_count": null,
   "id": "1563c8b1-ff9b-497b-9287-8c9379878792",
   "metadata": {},
   "outputs": [],
   "source": []
  },
  {
   "cell_type": "markdown",
   "id": "7229d0b4-163f-42b5-aac7-cf80692813ff",
   "metadata": {},
   "source": [
    "## <b> Explanatory Data Analysis \n",
    "1. Univariate analysis - analysisng each feature by itself \n",
    "2. Bivariate analysis - analysisng two features against each other \n",
    "3. Multivariate analysis - analysing multiple features ie pairplots\n"
   ]
  },
  {
   "cell_type": "code",
   "execution_count": 10,
   "id": "a8c53fe0-8c63-41c8-9765-cd12ec43eb62",
   "metadata": {},
   "outputs": [],
   "source": [
    "# Univariate Analysis on category variables \n",
    "# Test Results, Gender, Blood Type, Medical Condition, Insurance Provider, Admission Type and Medication Type "
   ]
  },
  {
   "cell_type": "code",
   "execution_count": 11,
   "id": "fa77b497-22b5-4522-88a6-2a07be2e998a",
   "metadata": {},
   "outputs": [
    {
     "data": {
      "image/png": "[encoded data removed]",
      "text/plain": [
       "<Figure size 500x400 with 1 Axes>"
      ]
     },
     "metadata": {},
     "output_type": "display_data"
    }
   ],
   "source": [
    "# 1. test results \n",
    "plt.figure(figsize=(5, 4))\n",
    "sns.countplot(data=df, x='Test Results', palette='Set2', order=df['Test Results'].value_counts().index)\n",
    "plt.title('Distribution of Test Results', fontsize=10)\n",
    "plt.xlabel('Test Result Category')\n",
    "plt.ylabel('Count')\n",
    "plt.xticks(rotation=0)\n",
    "plt.tight_layout()\n",
    "plt.show()"
   ]
  },
  {
   "cell_type": "code",
   "execution_count": 12,
   "id": "175e4c03-5eb4-4752-8afb-a928756462b4",
   "metadata": {},
   "outputs": [
    {
     "data": {
      "text/plain": [
       "Test Results\n",
       "Abnormal        18627\n",
       "Normal          18517\n",
       "Inconclusive    18356\n",
       "Name: count, dtype: int64"
      ]
     },
     "execution_count": 12,
     "metadata": {},
     "output_type": "execute_result"
    }
   ],
   "source": [
    "df[\"Test Results\"].value_counts()"
   ]
  },
  {
   "cell_type": "markdown",
   "id": "fb8b0053-4fa5-4b76-9d13-626d02b54554",
   "metadata": {},
   "source": [
    "<b> The test results variable shows balanced classes on all three values. <br>\n",
    "Abnormal - refering to patients with implications or still at risk <br>\n",
    "Inconclusive - refering to tests which did yield unexpected results likely needs retesting "
   ]
  },
  {
   "cell_type": "code",
   "execution_count": null,
   "id": "d092c833-6e83-4365-9e17-7ef98582ba27",
   "metadata": {},
   "outputs": [],
   "source": []
  },
  {
   "cell_type": "code",
   "execution_count": 13,
   "id": "fbcbf434-a4db-4733-b37b-db18275cb7f0",
   "metadata": {},
   "outputs": [
    {
     "name": "stdout",
     "output_type": "stream",
     "text": [
      "Blood Type\n",
      "A-     6969\n",
      "A+     6956\n",
      "AB+    6947\n",
      "AB-    6945\n",
      "B+     6945\n",
      "B-     6944\n",
      "O+     6917\n",
      "O-     6877\n",
      "Name: count, dtype: int64\n"
     ]
    },
    {
     "data": {
      "image/png": "[encoded data removed]",
      "text/plain": [
       "<Figure size 500x400 with 1 Axes>"
      ]
     },
     "metadata": {},
     "output_type": "display_data"
    }
   ],
   "source": [
    "# Blood type \n",
    "bloodyt  = df['Blood Type'].value_counts()\n",
    "print(bloodyt)\n",
    "\n",
    "colors = plt.cm.Paired(range(len(bloodyt)))\n",
    "plt.figure(figsize=(5, 4))\n",
    "plt.bar(bloodyt.index, bloodyt.values, color=colors)\n",
    "plt.title('Distribution of Blood Types', fontsize=14)\n",
    "plt.xlabel('Blood Type')\n",
    "plt.ylabel('Count')\n",
    "plt.xticks(rotation=45)\n",
    "plt.tight_layout()\n",
    "plt.show()"
   ]
  },
  {
   "cell_type": "code",
   "execution_count": 14,
   "id": "2045c211-a0ff-47ce-a2d1-32f809f52cb3",
   "metadata": {},
   "outputs": [
    {
     "name": "stdout",
     "output_type": "stream",
     "text": [
      "Medical Condition\n",
      "Arthritis       9308\n",
      "Diabetes        9304\n",
      "Hypertension    9245\n",
      "Obesity         9231\n",
      "Cancer          9227\n",
      "Asthma          9185\n",
      "Name: count, dtype: int64\n"
     ]
    },
    {
     "data": {
      "image/png": "[encoded data removed]",
      "text/plain": [
       "<Figure size 640x480 with 1 Axes>"
      ]
     },
     "metadata": {},
     "output_type": "display_data"
    }
   ],
   "source": [
    "# Medication Condition \n",
    "med_con = df['Medical Condition'].value_counts()\n",
    "print(med_con)\n",
    "sns.countplot(data=df, x='Medical Condition', palette='pastel', order=df['Medical Condition'].value_counts().index)\n",
    "plt.title('Distribution of Medical Conditions')\n",
    "plt.xticks(rotation=45)\n",
    "plt.show()\n"
   ]
  },
  {
   "cell_type": "code",
   "execution_count": 15,
   "id": "7c766212-5876-4a57-b1d3-173b39599741",
   "metadata": {},
   "outputs": [
    {
     "data": {
      "image/png": "[encoded data removed]",
      "text/plain": [
       "<Figure size 300x300 with 1 Axes>"
      ]
     },
     "metadata": {},
     "output_type": "display_data"
    }
   ],
   "source": [
    "# Gender distibution\n",
    "gender_counts = df['Gender'].value_counts()\n",
    "labels = gender_counts.index\n",
    "sizes = gender_counts.values\n",
    "colors = ['#8da0cb', '#fc8d62']  \n",
    "plt.figure(figsize=(3, 3))\n",
    "plt.pie(sizes, labels=labels, colors=colors, autopct='%1.1f%%', startangle=90)\n",
    "plt.title('Gender Distribution')\n",
    "plt.axis('equal')\n",
    "plt.show()\n"
   ]
  },
  {
   "cell_type": "code",
   "execution_count": 16,
   "id": "66fcb883-3921-4746-b368-b10ada0bad8d",
   "metadata": {},
   "outputs": [
    {
     "data": {
      "image/png": "[encoded data removed]",
      "text/plain": [
       "<Figure size 1000x700 with 6 Axes>"
      ]
     },
     "metadata": {},
     "output_type": "display_data"
    }
   ],
   "source": [
    "# Loop through categorical features\n",
    "cat_features = [\"Gender\",\"Blood Type\",\"Medical Condition\",\n",
    "                \"Insurance Provider\",\"Admission Type\",\"Medication\"]\n",
    "\n",
    "plt.figure(figsize=(10,7))\n",
    "for i, col in enumerate(cat_features, 1):\n",
    "    plt.subplot(3,2,i)\n",
    "    sns.countplot(y=df[col], order=df[col].value_counts().index, palette=\"Set2\")\n",
    "    plt.title(f\"Count Plot of {col}\")\n",
    "plt.tight_layout()\n",
    "plt.show()\n"
   ]
  },
  {
   "cell_type": "markdown",
   "id": "fe5e4d78-7f29-4d57-8fef-8415730f4c17",
   "metadata": {},
   "source": [
    "<b> The categoriacal variables from this data shows a well balanced distribution. <br> Gender with a 50/50 share, other variables showing slght difference in their value counts. <br> Each feature's bars are indexed with the values with more frequency starting as per index.\n",
    "1. gender = 50% a piece\n",
    "2. blood type: A- & A+ leading the charts with A- having a 6996 samples 10 more than A+\n",
    "3. medical condition : Arthritis is the leading medical condition followed by diabetes with just a 4 sample different.\n",
    "4. insurance provider: Cigna comes 1st with Aetana comes least on the charts\n",
    "5. admission type: emergency coms least, this shows most patients comes to the medical before its too late.\n",
    "6. medication: people mostly get lipitor and ibuprofen. The two led the way."
   ]
  },
  {
   "cell_type": "code",
   "execution_count": null,
   "id": "e6505e4b-a856-4f7c-a908-d115d29e34ad",
   "metadata": {},
   "outputs": [],
   "source": []
  },
  {
   "cell_type": "markdown",
   "id": "17534177-e0ea-4371-97c8-4111229c4c53",
   "metadata": {},
   "source": [
    "## <b> Below is a Treemap for categorical features \n",
    "The bigger block represent more frequent <br>\n",
    "the treemap visualize all the category variables on a single visual"
   ]
  },
  {
   "cell_type": "code",
   "execution_count": 17,
   "id": "de316421-725b-494f-9631-f828a4facb54",
   "metadata": {},
   "outputs": [
    {
     "data": {
      "image/png": "[encoded data removed]",
      "text/plain": [
       "<Figure size 700x500 with 1 Axes>"
      ]
     },
     "metadata": {},
     "output_type": "display_data"
    }
   ],
   "source": [
    "import squarify  \n",
    "\n",
    "counts = df[cat_features].melt()[\"value\"].value_counts()\n",
    "plt.figure(figsize=(7,5))\n",
    "squarify.plot(sizes=counts.values, label=counts.index, alpha=0.8)\n",
    "plt.axis(\"off\")\n",
    "plt.title(\"Treemap of All Categorical Variables\")\n",
    "plt.show()\n"
   ]
  },
  {
   "cell_type": "markdown",
   "id": "21bd68b2-ec92-4160-8cf9-bbb89a5a7cc0",
   "metadata": {},
   "source": [
    "<b> The bigger blocks i.e. gender blocks and admission type defines the whole structre of the data since they dominating. \n"
   ]
  },
  {
   "cell_type": "code",
   "execution_count": null,
   "id": "63baa07c-e1b6-4d73-b06c-d264c22793d3",
   "metadata": {},
   "outputs": [],
   "source": []
  },
  {
   "cell_type": "code",
   "execution_count": 18,
   "id": "992d2aee-811a-43a7-b732-3f318eb1e145",
   "metadata": {},
   "outputs": [
    {
     "data": {
      "image/png": "[encoded data removed]",
      "text/plain": [
       "<Figure size 800x500 with 2 Axes>"
      ]
     },
     "metadata": {},
     "output_type": "display_data"
    }
   ],
   "source": [
    "#  Univarate analysis on age, billing amount\n",
    "\n",
    "plt.figure(figsize=(8,5))\n",
    "# Density plot for Age\n",
    "plt.subplot(1,2,1)\n",
    "sns.kdeplot(df[\"Age\"], shade=True, color=\"skyblue\")\n",
    "plt.title(\"Density Plot of Age\")\n",
    "plt.xlabel(\"Age\")\n",
    "plt.ylabel(\"Density\")\n",
    "\n",
    "# Density plot for Billing Amount\n",
    "plt.subplot(1,2,2)\n",
    "sns.kdeplot(df[\"Billing Amount\"], shade=True, color=\"salmon\")\n",
    "plt.title(\"Density Plot of Billing Amount\")\n",
    "plt.xlabel(\"Billing Amount\")\n",
    "plt.ylabel(\"Density\")\n",
    "\n",
    "plt.tight_layout()\n",
    "plt.show()"
   ]
  },
  {
   "cell_type": "markdown",
   "id": "e40b8fc8-2a4d-4669-9311-69014f7a5082",
   "metadata": {},
   "source": [
    "<b> Age - the graph is showing a wide spread uniform distribution of data. Meaning no age group is dominating. <br>\n",
    "Billing amount - again same as age values are widely spread and no shigns of an average amount of billing. "
   ]
  },
  {
   "cell_type": "code",
   "execution_count": null,
   "id": "c01a08fc-f2be-493d-8010-003f9d7cdd29",
   "metadata": {},
   "outputs": [],
   "source": []
  },
  {
   "cell_type": "code",
   "execution_count": 19,
   "id": "4861306c-875b-49e6-9a52-588c89abeafc",
   "metadata": {},
   "outputs": [
    {
     "data": {
      "text/plain": [
       "Index(['Name', 'Age', 'Gender', 'Blood Type', 'Medical Condition',\n",
       "       'Date of Admission', 'Doctor', 'Hospital', 'Insurance Provider',\n",
       "       'Billing Amount', 'Room Number', 'Admission Type', 'Discharge Date',\n",
       "       'Medication', 'Test Results'],\n",
       "      dtype='object')"
      ]
     },
     "execution_count": 19,
     "metadata": {},
     "output_type": "execute_result"
    }
   ],
   "source": [
    "df.columns "
   ]
  },
  {
   "cell_type": "code",
   "execution_count": 20,
   "id": "b03e00ad-ac7f-4f0a-b00c-e5b0b8772d62",
   "metadata": {},
   "outputs": [],
   "source": [
    "# Bivariate analysis\n",
    "# target variable - billing amount \n",
    "# age vs billing amount - how age is determining the cost of a patient\n",
    "# insurance and billing - how related is insurance provider and billing. which insurance has the largest biling amount \n",
    "# admission type vs billing - is admission a factor in determing the cost. \n",
    "# blood type and medical condition - what kind of conditions each blood type facing \n",
    "# medication and test results - did the medical yield positive results. "
   ]
  },
  {
   "cell_type": "code",
   "execution_count": null,
   "id": "38644684-b19c-4b72-a203-0fdb8f495c6e",
   "metadata": {},
   "outputs": [],
   "source": []
  },
  {
   "cell_type": "code",
   "execution_count": 21,
   "id": "71d868a3-35c2-4d93-b172-2fa072dca76b",
   "metadata": {},
   "outputs": [
    {
     "data": {
      "image/png": "[encoded data removed]",
      "text/plain": [
       "<Figure size 700x500 with 1 Axes>"
      ]
     },
     "metadata": {},
     "output_type": "display_data"
    }
   ],
   "source": [
    "# age vs billing amount - how age is determining the cost of a patient\n",
    "bins = [0, 18, 45, 65, 95]\n",
    "labels = ['0-18', '19-45', '46-65', '66-95']\n",
    "df['Age Group'] = pd.cut(df['Age'], bins =bins, labels =labels, right = True)\n",
    "\n",
    "\n",
    "plt.figure(figsize=(7,5))\n",
    "sns.boxplot(x = \"Age Group\", y =\"Billing Amount\", data = df, palette = \"Set2\")\n",
    "plt.title(\"Billing amount distribution against the age groups\")\n",
    "plt.xlabel(\"Age group\")\n",
    "plt.ylabel(\"Billing Amount\")\n",
    "plt.show()"
   ]
  },
  {
   "cell_type": "markdown",
   "id": "849ae77a-8180-48b6-bc3e-6c989b6383c3",
   "metadata": {},
   "source": [
    "<b> The billing amount is looking to have a pattern in which lower age group of boys ang girls have a higher billing amount. <br>\n",
    "People in retirement class pay less, whilst working group pay a significant amount slightly lessr than of that age group of 0-18yrs."
   ]
  },
  {
   "cell_type": "code",
   "execution_count": 22,
   "id": "3eecb015-5fc2-49b0-b75e-902beb53749f",
   "metadata": {},
   "outputs": [
    {
     "data": {
      "image/png": "[encoded data removed]",
      "text/plain": [
       "<Figure size 700x500 with 1 Axes>"
      ]
     },
     "metadata": {},
     "output_type": "display_data"
    }
   ],
   "source": [
    "# insurance and billing - how related is insurance provider and billing. which insurance has the largest biling amount \n",
    "plt.figure(figsize=(7, 5))\n",
    "sns.barplot(x=\"Insurance Provider\", y = \"Billing Amount\", data = df, palette = \"Set3\")\n",
    "plt.title(\"Billing Amounts by Insurance Provider (Individual Records)\")\n",
    "plt.ylabel(\"Billing Amount\")\n",
    "plt.xlabel(\"Insurance Provider\")\n",
    "plt.xticks(rotation=30)\n",
    "plt.show()"
   ]
  },
  {
   "cell_type": "markdown",
   "id": "2d818c09-099a-469d-9549-a55b3f641319",
   "metadata": {},
   "source": [
    "<b> The bills are of same level on all insurance providers, "
   ]
  },
  {
   "cell_type": "code",
   "execution_count": null,
   "id": "1c8d98a5-9831-485b-847a-cb70262dc15d",
   "metadata": {},
   "outputs": [],
   "source": []
  },
  {
   "cell_type": "code",
   "execution_count": 23,
   "id": "465ab896-fd28-4526-a0a2-73e111dfcff9",
   "metadata": {},
   "outputs": [
    {
     "data": {
      "text/plain": [
       "(array([0, 1, 2]),\n",
       " [Text(0, 0, 'Elective'), Text(1, 0, 'Emergency'), Text(2, 0, 'Urgent')])"
      ]
     },
     "execution_count": 23,
     "metadata": {},
     "output_type": "execute_result"
    },
    {
     "data": {
      "image/png": "[encoded data removed]",
      "text/plain": [
       "<Figure size 600x500 with 1 Axes>"
      ]
     },
     "metadata": {},
     "output_type": "display_data"
    }
   ],
   "source": [
    "# admission type vs billing - is admission a factor in determing the cost grouped by mean\n",
    "plt.figure(figsize=(6,5))\n",
    "mean_billing = df.groupby('Admission Type')['Billing Amount'].mean()\n",
    "mean_billing.plot(kind='bar', color='skyblue')\n",
    "plt.title('Average Billing Amount by Admission Type')\n",
    "plt.ylabel('Average Billing Amount ($)')\n",
    "plt.xticks(rotation=45)"
   ]
  },
  {
   "cell_type": "markdown",
   "id": "410cef2c-6d1a-4745-925a-c9c283b1409f",
   "metadata": {},
   "source": [
    "<b> From the above the biling amount is evenly distributed, it doesn't have a distinctive value in which bills more than the other. "
   ]
  },
  {
   "cell_type": "code",
   "execution_count": 24,
   "id": "bdcbd6a5-13df-4e2d-b32d-0c5cf22e91a6",
   "metadata": {},
   "outputs": [
    {
     "name": "stdout",
     "output_type": "stream",
     "text": [
      "Test results & Medication Crosstab:\n",
      "Test Results  Abnormal  Inconclusive  Normal    All\n",
      "Medication                                         \n",
      "Aspirin           3732          3624    3738  11094\n",
      "Ibuprofen         3747          3645    3735  11127\n",
      "Lipitor           3707          3746    3687  11140\n",
      "Paracetamol       3737          3681    3653  11071\n",
      "Penicillin        3704          3660    3704  11068\n",
      "All              18627         18356   18517  55500\n",
      "\n",
      "\n"
     ]
    }
   ],
   "source": [
    "# medication and test results - did the medical yield positive results. \n",
    "crosstab = pd.crosstab(df['Medication'], df['Test Results'], margins=True)\n",
    "print(\"Test results & Medication Crosstab:\")\n",
    "print(crosstab)\n",
    "print(\"\\n\")"
   ]
  },
  {
   "cell_type": "markdown",
   "id": "59f156f2-80d7-46c4-9f94-4bb372dda6c5",
   "metadata": {},
   "source": [
    "#<b> The test results are slightly even distributed, proves to be highly correlated with each medication provided. \n",
    "Lipitor is the most medication which was provided followed with Ibuprofen. "
   ]
  },
  {
   "cell_type": "code",
   "execution_count": 25,
   "id": "e822677f-d7e3-415d-a28e-7c0eefc116dd",
   "metadata": {},
   "outputs": [
    {
     "name": "stdout",
     "output_type": "stream",
     "text": [
      "Medication crosstabulation with Medical condition\n",
      "Medical Condition  Arthritis  Asthma  Cancer  Diabetes  Hypertension  Obesity  \\\n",
      "Medication                                                                      \n",
      "Aspirin                 1918    1802    1786      1858          1865     1865   \n",
      "Ibuprofen               1822    1827    1873      1861          1893     1851   \n",
      "Lipitor                 1825    1823    1922      1893          1848     1829   \n",
      "Paracetamol             1877    1888    1853      1811          1849     1793   \n",
      "Penicillin              1866    1845    1793      1881          1790     1893   \n",
      "All                     9308    9185    9227      9304          9245     9231   \n",
      "\n",
      "Medical Condition    All  \n",
      "Medication                \n",
      "Aspirin            11094  \n",
      "Ibuprofen          11127  \n",
      "Lipitor            11140  \n",
      "Paracetamol        11071  \n",
      "Penicillin         11068  \n",
      "All                55500  \n"
     ]
    }
   ],
   "source": [
    "#medical conditionvs medication \n",
    "med = pd.crosstab(df['Medication'], df['Medical Condition'], margins=True)\n",
    "print(\"Medication crosstabulation with Medical condition\")\n",
    "print(med) \n"
   ]
  },
  {
   "cell_type": "markdown",
   "id": "0f385b6d-e997-413f-89f6-4c0933338dc7",
   "metadata": {},
   "source": [
    "<b> From the above crosstab again the data seems fairly distributed throughout the whole values. No medical condition had much different with others, it seems hospitals admitted patients evenly not giving priority to any group. "
   ]
  },
  {
   "cell_type": "code",
   "execution_count": null,
   "id": "7800d814-911a-476b-96aa-add579a5c705",
   "metadata": {},
   "outputs": [],
   "source": []
  },
  {
   "cell_type": "code",
   "execution_count": 26,
   "id": "16f3afde-ae0b-4830-a581-d80b6801346f",
   "metadata": {},
   "outputs": [],
   "source": [
    "#3 Multivariate analysis \n",
    "# Age vs Gender vs medical condition\n",
    "# age vs medical condition vs billing "
   ]
  },
  {
   "cell_type": "code",
   "execution_count": 27,
   "id": "653ccc19-37c2-4fb1-9291-d143992110a2",
   "metadata": {},
   "outputs": [
    {
     "data": {
      "image/png": "[encoded data removed]",
      "text/plain": [
       "<Figure size 800x600 with 1 Axes>"
      ]
     },
     "metadata": {},
     "output_type": "display_data"
    }
   ],
   "source": [
    "# Age vs Gender vs medical condition\n",
    "plt.figure(figsize=(8,6))\n",
    "sns.boxplot(x=\"Medical Condition\", y=\"Age\", hue=\"Gender\", data=df, palette=\"Set2\")\n",
    "plt.title(\"Age vs Medical Condition by Gender\")\n",
    "plt.xlabel(\"Medical Condition\")\n",
    "plt.ylabel(\"Age\")\n",
    "plt.legend(title=\"Gender\")\n",
    "plt.show()"
   ]
  },
  {
   "cell_type": "code",
   "execution_count": 28,
   "id": "5d42b4ba-a26e-499e-81c0-0c0ba0da5bbd",
   "metadata": {},
   "outputs": [
    {
     "name": "stdout",
     "output_type": "stream",
     "text": [
      "Gender                Female       Male\n",
      "Medical Condition                      \n",
      "Arthritis          51.417627  51.715058\n",
      "Asthma             51.655612  51.497409\n",
      "Cancer             51.337027  51.779459\n",
      "Diabetes           51.569125  51.539222\n",
      "Hypertension       52.146357  51.339305\n",
      "Obesity            51.350281  51.129963\n"
     ]
    }
   ],
   "source": [
    "# Pivot table: Mean Age by Condition & Gender\n",
    "age_table = pd.pivot_table(df, values=\"Age\", index=\"Medical Condition\", columns=\"Gender\", aggfunc=\"mean\")\n",
    "print(age_table)"
   ]
  },
  {
   "cell_type": "markdown",
   "id": "044363e9-3529-4327-84b5-90ae4b455519",
   "metadata": {},
   "source": [
    "<b> Overally the dataset shows both male and female patients tend to fall within the same middle-aged range (around 51–52 years) across all medical conditions. Gender differences in average age are minimal, suggesting that conditions affect both genders at similar ages in this dataset. Only slight variations appear, such as hypertension occurring a bit later in women and cancer slightly later in men."
   ]
  },
  {
   "cell_type": "code",
   "execution_count": 29,
   "id": "fd1e864e-dccc-47f6-972f-a86c260f7105",
   "metadata": {},
   "outputs": [
    {
     "data": {
      "image/png": "[encoded data removed]",
      "text/plain": [
       "<Figure size 1000x600 with 1 Axes>"
      ]
     },
     "metadata": {},
     "output_type": "display_data"
    }
   ],
   "source": [
    "# age vs medical condition vs billing\n",
    "plt.figure(figsize=(10,6))\n",
    "sns.boxplot(x=\"Medical Condition\", y=\"Billing Amount\", hue=\"Age Group\", data=df, palette=\"Set2\")\n",
    "plt.title(\"Billing Amount by Medical Condition and Age Group\")\n",
    "plt.xlabel(\"Medical Condition\")\n",
    "plt.ylabel(\"Billing Amount\")\n",
    "plt.legend(title=\"Age Group\")\n",
    "plt.show()"
   ]
  },
  {
   "cell_type": "code",
   "execution_count": 30,
   "id": "7997be1f-89da-4a40-a9cc-78369b4ba5ce",
   "metadata": {},
   "outputs": [
    {
     "name": "stdout",
     "output_type": "stream",
     "text": [
      "Age Group                  0-18         19-45         46-65         66-95\n",
      "Medical Condition                                                        \n",
      "Arthritis          27119.407648  25247.528883  25569.664626  25670.150974\n",
      "Asthma             26027.804639  26151.398796  24932.390537  25617.384420\n",
      "Cancer             26196.150257  25084.155879  25582.076440  24785.520211\n",
      "Diabetes           27013.377631  25570.528186  25599.005711  25700.094633\n",
      "Hypertension       28945.466283  25387.123736  25636.910362  25323.778504\n",
      "Obesity            25428.181598  26062.060361  25836.628788  25439.402926\n"
     ]
    }
   ],
   "source": [
    "# Pivot table: Mean Billing Amount by Condition & Age Group\n",
    "billing_table = pd.pivot_table(\n",
    "    df, \n",
    "    values=\"Billing Amount\", \n",
    "    index=\"Medical Condition\", \n",
    "    columns=\"Age Group\", \n",
    "    aggfunc=\"mean\"\n",
    ")\n",
    "\n",
    "print(billing_table)"
   ]
  },
  {
   "cell_type": "markdown",
   "id": "95163704-4d55-42fb-8342-c9f965063657",
   "metadata": {},
   "source": [
    "<b> Most medical conditions have similar billing amounts, ranging between 20,000 and 30,000, with the highest bills reaching around 50,000. Cancer and Hypertension cost a bit more on average on young kids, but age doesn’t always mean higher bills—the type of condition matters more than the patient’s age.\n",
    "The pivot table alaso reflecting on average billing for aech age group with billing amount of hypertension higher than others on 0-18 age group, Asthma taking over on the youth level having higher bills paid, obesityis charged higher on the fatherly mother level and lastly diabetes on Retired elderly is the one with higher bills."
   ]
  },
  {
   "cell_type": "code",
   "execution_count": null,
   "id": "5d8d9fce-af07-4148-a61b-64b91cf89660",
   "metadata": {},
   "outputs": [],
   "source": []
  },
  {
   "cell_type": "markdown",
   "id": "0c54cd5c-afaa-4bcf-a79e-bd1496684da6",
   "metadata": {},
   "source": [
    "## <b> Data Cleaning\n",
    "1. Dealing with missing values\n",
    "2. Removal of duplicates\n",
    "3. Detecting and dealing with outliers "
   ]
  },
  {
   "cell_type": "code",
   "execution_count": 31,
   "id": "fa49b678-6d28-4bc3-bb7f-d21e8d48727b",
   "metadata": {},
   "outputs": [
    {
     "data": {
      "text/plain": [
       "Name                  0\n",
       "Age                   0\n",
       "Gender                0\n",
       "Blood Type            0\n",
       "Medical Condition     0\n",
       "Date of Admission     0\n",
       "Doctor                0\n",
       "Hospital              0\n",
       "Insurance Provider    0\n",
       "Billing Amount        0\n",
       "Room Number           0\n",
       "Admission Type        0\n",
       "Discharge Date        0\n",
       "Medication            0\n",
       "Test Results          0\n",
       "Age Group             0\n",
       "dtype: int64"
      ]
     },
     "execution_count": 31,
     "metadata": {},
     "output_type": "execute_result"
    }
   ],
   "source": [
    "#checking for missing values\n",
    "df.isnull().sum()"
   ]
  },
  {
   "cell_type": "markdown",
   "id": "7118bcb1-d270-429c-80dc-36f80e04468a",
   "metadata": {},
   "source": [
    "<b> No missing data on all variables "
   ]
  },
  {
   "cell_type": "code",
   "execution_count": 32,
   "id": "0c4ebdb2-a450-4227-a4bc-2ce2c6a66335",
   "metadata": {},
   "outputs": [
    {
     "data": {
      "text/plain": [
       "534"
      ]
     },
     "execution_count": 32,
     "metadata": {},
     "output_type": "execute_result"
    }
   ],
   "source": [
    "#checking for duplicates \n",
    "df.duplicated().sum()"
   ]
  },
  {
   "cell_type": "code",
   "execution_count": 33,
   "id": "410c879c-fa04-4290-bf4c-ecde0221e7df",
   "metadata": {},
   "outputs": [],
   "source": [
    "dplicated=df[df.duplicated()]"
   ]
  },
  {
   "cell_type": "code",
   "execution_count": 34,
   "id": "59073d27-07c4-4292-a6d0-b3c5ee43c7bc",
   "metadata": {},
   "outputs": [
    {
     "name": "stdout",
     "output_type": "stream",
     "text": [
      "Duplicate Rows :\n"
     ]
    },
    {
     "data": {
      "text/html": [
       "<div>\n",
       "<style scoped>\n",
       "    .dataframe tbody tr th:only-of-type {\n",
       "        vertical-align: middle;\n",
       "    }\n",
       "\n",
       "    .dataframe tbody tr th {\n",
       "        vertical-align: top;\n",
       "    }\n",
       "\n",
       "    .dataframe thead th {\n",
       "        text-align: right;\n",
       "    }\n",
       "</style>\n",
       "<table border=\"1\" class=\"dataframe\">\n",
       "  <thead>\n",
       "    <tr style=\"text-align: right;\">\n",
       "      <th></th>\n",
       "      <th>Name</th>\n",
       "      <th>Age</th>\n",
       "      <th>Gender</th>\n",
       "      <th>Blood Type</th>\n",
       "      <th>Medical Condition</th>\n",
       "      <th>Date of Admission</th>\n",
       "      <th>Doctor</th>\n",
       "      <th>Hospital</th>\n",
       "      <th>Insurance Provider</th>\n",
       "      <th>Billing Amount</th>\n",
       "      <th>Room Number</th>\n",
       "      <th>Admission Type</th>\n",
       "      <th>Discharge Date</th>\n",
       "      <th>Medication</th>\n",
       "      <th>Test Results</th>\n",
       "      <th>Age Group</th>\n",
       "    </tr>\n",
       "  </thead>\n",
       "  <tbody>\n",
       "    <tr>\n",
       "      <th>50023</th>\n",
       "      <td>Samuel joYCe</td>\n",
       "      <td>56</td>\n",
       "      <td>Male</td>\n",
       "      <td>O+</td>\n",
       "      <td>Arthritis</td>\n",
       "      <td>3/11/2022</td>\n",
       "      <td>Krista Hartman</td>\n",
       "      <td>Thomas-Ballard</td>\n",
       "      <td>UnitedHealthcare</td>\n",
       "      <td>15654.830590</td>\n",
       "      <td>157</td>\n",
       "      <td>Urgent</td>\n",
       "      <td>22/11/2022</td>\n",
       "      <td>Aspirin</td>\n",
       "      <td>Inconclusive</td>\n",
       "      <td>46-65</td>\n",
       "    </tr>\n",
       "    <tr>\n",
       "      <th>50040</th>\n",
       "      <td>KIMBErly vasqueZ</td>\n",
       "      <td>26</td>\n",
       "      <td>Male</td>\n",
       "      <td>A-</td>\n",
       "      <td>Obesity</td>\n",
       "      <td>23/10/2023</td>\n",
       "      <td>Jennifer Bennett</td>\n",
       "      <td>Cowan Inc</td>\n",
       "      <td>UnitedHealthcare</td>\n",
       "      <td>38142.109680</td>\n",
       "      <td>313</td>\n",
       "      <td>Urgent</td>\n",
       "      <td>18/11/2023</td>\n",
       "      <td>Penicillin</td>\n",
       "      <td>Abnormal</td>\n",
       "      <td>19-45</td>\n",
       "    </tr>\n",
       "    <tr>\n",
       "      <th>50055</th>\n",
       "      <td>SCoTT tHOrNton</td>\n",
       "      <td>55</td>\n",
       "      <td>Female</td>\n",
       "      <td>B-</td>\n",
       "      <td>Obesity</td>\n",
       "      <td>8/4/2021</td>\n",
       "      <td>Joshua Ingram</td>\n",
       "      <td>Keller LLC</td>\n",
       "      <td>Medicare</td>\n",
       "      <td>30894.904510</td>\n",
       "      <td>455</td>\n",
       "      <td>Urgent</td>\n",
       "      <td>15/4/2021</td>\n",
       "      <td>Aspirin</td>\n",
       "      <td>Abnormal</td>\n",
       "      <td>46-65</td>\n",
       "    </tr>\n",
       "    <tr>\n",
       "      <th>50070</th>\n",
       "      <td>wiLliam LEe</td>\n",
       "      <td>27</td>\n",
       "      <td>Female</td>\n",
       "      <td>O+</td>\n",
       "      <td>Arthritis</td>\n",
       "      <td>31/1/2020</td>\n",
       "      <td>Lauren Montgomery</td>\n",
       "      <td>Winters-Simon</td>\n",
       "      <td>Cigna</td>\n",
       "      <td>46229.434900</td>\n",
       "      <td>153</td>\n",
       "      <td>Elective</td>\n",
       "      <td>13/2/2020</td>\n",
       "      <td>Lipitor</td>\n",
       "      <td>Normal</td>\n",
       "      <td>19-45</td>\n",
       "    </tr>\n",
       "    <tr>\n",
       "      <th>50078</th>\n",
       "      <td>chRistOPheR NoRrIs</td>\n",
       "      <td>38</td>\n",
       "      <td>Male</td>\n",
       "      <td>AB-</td>\n",
       "      <td>Arthritis</td>\n",
       "      <td>14/1/2023</td>\n",
       "      <td>Denise Blair</td>\n",
       "      <td>Inc Morales</td>\n",
       "      <td>Medicare</td>\n",
       "      <td>9072.127142</td>\n",
       "      <td>452</td>\n",
       "      <td>Emergency</td>\n",
       "      <td>12/2/2023</td>\n",
       "      <td>Penicillin</td>\n",
       "      <td>Normal</td>\n",
       "      <td>19-45</td>\n",
       "    </tr>\n",
       "    <tr>\n",
       "      <th>...</th>\n",
       "      <td>...</td>\n",
       "      <td>...</td>\n",
       "      <td>...</td>\n",
       "      <td>...</td>\n",
       "      <td>...</td>\n",
       "      <td>...</td>\n",
       "      <td>...</td>\n",
       "      <td>...</td>\n",
       "      <td>...</td>\n",
       "      <td>...</td>\n",
       "      <td>...</td>\n",
       "      <td>...</td>\n",
       "      <td>...</td>\n",
       "      <td>...</td>\n",
       "      <td>...</td>\n",
       "      <td>...</td>\n",
       "    </tr>\n",
       "    <tr>\n",
       "      <th>55461</th>\n",
       "      <td>connOR coMPTon</td>\n",
       "      <td>63</td>\n",
       "      <td>Male</td>\n",
       "      <td>A+</td>\n",
       "      <td>Asthma</td>\n",
       "      <td>21/8/2021</td>\n",
       "      <td>Jonathan Allen</td>\n",
       "      <td>and Willis Mullins, Bowers</td>\n",
       "      <td>Medicare</td>\n",
       "      <td>1936.702824</td>\n",
       "      <td>375</td>\n",
       "      <td>Emergency</td>\n",
       "      <td>16/9/2021</td>\n",
       "      <td>Paracetamol</td>\n",
       "      <td>Normal</td>\n",
       "      <td>46-65</td>\n",
       "    </tr>\n",
       "    <tr>\n",
       "      <th>55462</th>\n",
       "      <td>alYSsA mIlLER</td>\n",
       "      <td>35</td>\n",
       "      <td>Female</td>\n",
       "      <td>A-</td>\n",
       "      <td>Diabetes</td>\n",
       "      <td>30/6/2022</td>\n",
       "      <td>Ryan Price</td>\n",
       "      <td>Shelton-Gallagher</td>\n",
       "      <td>UnitedHealthcare</td>\n",
       "      <td>2210.460898</td>\n",
       "      <td>289</td>\n",
       "      <td>Elective</td>\n",
       "      <td>27/7/2022</td>\n",
       "      <td>Penicillin</td>\n",
       "      <td>Normal</td>\n",
       "      <td>19-45</td>\n",
       "    </tr>\n",
       "    <tr>\n",
       "      <th>55464</th>\n",
       "      <td>ChRIs huGHeS</td>\n",
       "      <td>35</td>\n",
       "      <td>Female</td>\n",
       "      <td>AB-</td>\n",
       "      <td>Obesity</td>\n",
       "      <td>28/2/2024</td>\n",
       "      <td>Katelyn Perry</td>\n",
       "      <td>Lyons-Hansen</td>\n",
       "      <td>Blue Cross</td>\n",
       "      <td>11889.154510</td>\n",
       "      <td>128</td>\n",
       "      <td>Emergency</td>\n",
       "      <td>14/3/2024</td>\n",
       "      <td>Paracetamol</td>\n",
       "      <td>Abnormal</td>\n",
       "      <td>19-45</td>\n",
       "    </tr>\n",
       "    <tr>\n",
       "      <th>55484</th>\n",
       "      <td>keNNEtH alvarez</td>\n",
       "      <td>80</td>\n",
       "      <td>Male</td>\n",
       "      <td>O+</td>\n",
       "      <td>Cancer</td>\n",
       "      <td>5/5/2022</td>\n",
       "      <td>Andrew Conner</td>\n",
       "      <td>Sons Mayo and</td>\n",
       "      <td>Cigna</td>\n",
       "      <td>45653.802310</td>\n",
       "      <td>114</td>\n",
       "      <td>Elective</td>\n",
       "      <td>17/5/2022</td>\n",
       "      <td>Aspirin</td>\n",
       "      <td>Normal</td>\n",
       "      <td>66-95</td>\n",
       "    </tr>\n",
       "    <tr>\n",
       "      <th>55491</th>\n",
       "      <td>lInDA grIFfin</td>\n",
       "      <td>47</td>\n",
       "      <td>Female</td>\n",
       "      <td>O+</td>\n",
       "      <td>Obesity</td>\n",
       "      <td>21/6/2020</td>\n",
       "      <td>Danielle Davis</td>\n",
       "      <td>and King Jordan Johnson,</td>\n",
       "      <td>Aetna</td>\n",
       "      <td>15715.551080</td>\n",
       "      <td>310</td>\n",
       "      <td>Emergency</td>\n",
       "      <td>25/6/2020</td>\n",
       "      <td>Lipitor</td>\n",
       "      <td>Abnormal</td>\n",
       "      <td>46-65</td>\n",
       "    </tr>\n",
       "  </tbody>\n",
       "</table>\n",
       "<p>534 rows × 16 columns</p>\n",
       "</div>"
      ],
      "text/plain": [
       "                     Name  Age  Gender Blood Type Medical Condition  \\\n",
       "50023        Samuel joYCe   56    Male         O+         Arthritis   \n",
       "50040    KIMBErly vasqueZ   26    Male         A-           Obesity   \n",
       "50055      SCoTT tHOrNton   55  Female         B-           Obesity   \n",
       "50070         wiLliam LEe   27  Female         O+         Arthritis   \n",
       "50078  chRistOPheR NoRrIs   38    Male        AB-         Arthritis   \n",
       "...                   ...  ...     ...        ...               ...   \n",
       "55461      connOR coMPTon   63    Male         A+            Asthma   \n",
       "55462       alYSsA mIlLER   35  Female         A-          Diabetes   \n",
       "55464        ChRIs huGHeS   35  Female        AB-           Obesity   \n",
       "55484     keNNEtH alvarez   80    Male         O+            Cancer   \n",
       "55491       lInDA grIFfin   47  Female         O+           Obesity   \n",
       "\n",
       "      Date of Admission             Doctor                    Hospital  \\\n",
       "50023         3/11/2022     Krista Hartman              Thomas-Ballard   \n",
       "50040        23/10/2023   Jennifer Bennett                   Cowan Inc   \n",
       "50055          8/4/2021      Joshua Ingram                  Keller LLC   \n",
       "50070         31/1/2020  Lauren Montgomery               Winters-Simon   \n",
       "50078         14/1/2023       Denise Blair                 Inc Morales   \n",
       "...                 ...                ...                         ...   \n",
       "55461         21/8/2021     Jonathan Allen  and Willis Mullins, Bowers   \n",
       "55462         30/6/2022         Ryan Price           Shelton-Gallagher   \n",
       "55464         28/2/2024      Katelyn Perry                Lyons-Hansen   \n",
       "55484          5/5/2022      Andrew Conner               Sons Mayo and   \n",
       "55491         21/6/2020     Danielle Davis    and King Jordan Johnson,   \n",
       "\n",
       "      Insurance Provider  Billing Amount  Room Number Admission Type  \\\n",
       "50023   UnitedHealthcare    15654.830590          157         Urgent   \n",
       "50040   UnitedHealthcare    38142.109680          313         Urgent   \n",
       "50055           Medicare    30894.904510          455         Urgent   \n",
       "50070              Cigna    46229.434900          153       Elective   \n",
       "50078           Medicare     9072.127142          452      Emergency   \n",
       "...                  ...             ...          ...            ...   \n",
       "55461           Medicare     1936.702824          375      Emergency   \n",
       "55462   UnitedHealthcare     2210.460898          289       Elective   \n",
       "55464         Blue Cross    11889.154510          128      Emergency   \n",
       "55484              Cigna    45653.802310          114       Elective   \n",
       "55491              Aetna    15715.551080          310      Emergency   \n",
       "\n",
       "      Discharge Date   Medication  Test Results Age Group  \n",
       "50023     22/11/2022      Aspirin  Inconclusive     46-65  \n",
       "50040     18/11/2023   Penicillin      Abnormal     19-45  \n",
       "50055      15/4/2021      Aspirin      Abnormal     46-65  \n",
       "50070      13/2/2020      Lipitor        Normal     19-45  \n",
       "50078      12/2/2023   Penicillin        Normal     19-45  \n",
       "...              ...          ...           ...       ...  \n",
       "55461      16/9/2021  Paracetamol        Normal     46-65  \n",
       "55462      27/7/2022   Penicillin        Normal     19-45  \n",
       "55464      14/3/2024  Paracetamol      Abnormal     19-45  \n",
       "55484      17/5/2022      Aspirin        Normal     66-95  \n",
       "55491      25/6/2020      Lipitor      Abnormal     46-65  \n",
       "\n",
       "[534 rows x 16 columns]"
      ]
     },
     "execution_count": 34,
     "metadata": {},
     "output_type": "execute_result"
    }
   ],
   "source": [
    "print(\"Duplicate Rows :\")\n",
    "dplicated"
   ]
  },
  {
   "cell_type": "code",
   "execution_count": 35,
   "id": "f72e259a-e027-493b-8bb5-54f864872306",
   "metadata": {},
   "outputs": [],
   "source": [
    "df=df.drop_duplicates()"
   ]
  },
  {
   "cell_type": "code",
   "execution_count": 36,
   "id": "04cc969c-6b1d-4785-90b2-d5287d7e66ae",
   "metadata": {},
   "outputs": [
    {
     "data": {
      "text/plain": [
       "(54966, 16)"
      ]
     },
     "execution_count": 36,
     "metadata": {},
     "output_type": "execute_result"
    }
   ],
   "source": [
    "df.shape"
   ]
  },
  {
   "cell_type": "markdown",
   "id": "6f66ec64-b11f-4697-b6d9-5264579aa04f",
   "metadata": {},
   "source": [
    "<b> 534 rows which were duplicated"
   ]
  },
  {
   "cell_type": "code",
   "execution_count": null,
   "id": "b38057c4-0cdb-4278-ac12-ff3dd04b16f6",
   "metadata": {},
   "outputs": [],
   "source": []
  },
  {
   "cell_type": "code",
   "execution_count": 37,
   "id": "c5a47ca7-b40a-4465-ac76-8e3a74389eb5",
   "metadata": {},
   "outputs": [
    {
     "data": {
      "image/png": "[encoded data removed]",
      "text/plain": [
       "<Figure size 640x480 with 1 Axes>"
      ]
     },
     "metadata": {},
     "output_type": "display_data"
    }
   ],
   "source": [
    "# Outlier Detection using boxplot on Billing amount variable \n",
    "sns.boxplot(data=df['Billing Amount'])\n",
    "plt.title(\"Detecting Outliers\")\n",
    "plt.show()"
   ]
  },
  {
   "cell_type": "markdown",
   "id": "348f3070-744c-4884-9c7b-02e9ce7ca97a",
   "metadata": {},
   "source": [
    "<b> No outliers detected here, instead the data is showing billing amount was evenly distributed"
   ]
  },
  {
   "cell_type": "code",
   "execution_count": null,
   "id": "3d70dfea-509d-47fe-a9ee-09b177976c6c",
   "metadata": {},
   "outputs": [],
   "source": []
  },
  {
   "cell_type": "markdown",
   "id": "497a0402-11a4-4402-95bb-813714f0d583",
   "metadata": {},
   "source": [
    "## <b> Feature Engineering \n",
    "1. Data type i.e. dealing with dates variables to date-time-stamps\n",
    "2. Construct new columns i.e. calculation of days whilst admitted\n",
    "3. Encoding categorical variables\n",
    "   "
   ]
  },
  {
   "cell_type": "code",
   "execution_count": 38,
   "id": "c51efbae-a88f-41ff-b7f1-a524ff47e51c",
   "metadata": {},
   "outputs": [
    {
     "data": {
      "text/plain": [
       "Name                    object\n",
       "Age                      int64\n",
       "Gender                  object\n",
       "Blood Type              object\n",
       "Medical Condition       object\n",
       "Date of Admission       object\n",
       "Doctor                  object\n",
       "Hospital                object\n",
       "Insurance Provider      object\n",
       "Billing Amount         float64\n",
       "Room Number              int64\n",
       "Admission Type          object\n",
       "Discharge Date          object\n",
       "Medication              object\n",
       "Test Results            object\n",
       "Age Group             category\n",
       "dtype: object"
      ]
     },
     "execution_count": 38,
     "metadata": {},
     "output_type": "execute_result"
    }
   ],
   "source": [
    "# check for the data types \n",
    "df.dtypes"
   ]
  },
  {
   "cell_type": "code",
   "execution_count": 39,
   "id": "f469722f-7da7-4f7e-9ad7-4f40d60f76c7",
   "metadata": {},
   "outputs": [
    {
     "data": {
      "text/plain": [
       "'\\n#dealing with date columns to date time stamps \\ndate_columns = [\\'Date of Admission\\', \\'Discharge Date\\']\\n\\n# Convert to datetime format\\nfor col in date_columns:\\n    df[col] = pd.to_datetime(df[col], errors=\\'coerce\\')\\n\\nprint(\"Date columns converted to datetime format:\")\\nprint(df[date_columns].dtypes)\\n\\n'"
      ]
     },
     "execution_count": 39,
     "metadata": {},
     "output_type": "execute_result"
    }
   ],
   "source": [
    "\"\"\"\n",
    "#dealing with date columns to date time stamps \n",
    "date_columns = ['Date of Admission', 'Discharge Date']\n",
    "\n",
    "# Convert to datetime format\n",
    "for col in date_columns:\n",
    "    df[col] = pd.to_datetime(df[col], errors='coerce')\n",
    "\n",
    "print(\"Date columns converted to datetime format:\")\n",
    "print(df[date_columns].dtypes)\n",
    "\n",
    "\"\"\""
   ]
  },
  {
   "cell_type": "code",
   "execution_count": 40,
   "id": "651942d6-8989-4341-9c4e-65d50b05234f",
   "metadata": {},
   "outputs": [
    {
     "data": {
      "text/plain": [
       "Discharge Date\n",
       "15/3/2020     53\n",
       "13/12/2021    51\n",
       "29/4/2023     51\n",
       "2/12/2020     50\n",
       "11/8/2020     50\n",
       "              ..\n",
       "4/6/2024       2\n",
       "5/6/2024       2\n",
       "11/5/2019      2\n",
       "9/5/2019       1\n",
       "6/6/2024       1\n",
       "Name: count, Length: 1856, dtype: int64"
      ]
     },
     "execution_count": 40,
     "metadata": {},
     "output_type": "execute_result"
    }
   ],
   "source": [
    "df['Discharge Date'].value_counts()"
   ]
  },
  {
   "cell_type": "code",
   "execution_count": 41,
   "id": "38a773df-60b3-476f-924d-91f88caad406",
   "metadata": {},
   "outputs": [
    {
     "data": {
      "text/plain": [
       "0       2024-02-02\n",
       "1              NaT\n",
       "2       2022-07-10\n",
       "3              NaT\n",
       "4       2022-09-10\n",
       "           ...    \n",
       "55495          NaT\n",
       "55496   2020-01-02\n",
       "55497   2020-10-08\n",
       "55498          NaT\n",
       "55499          NaT\n",
       "Name: Discharge Date, Length: 54966, dtype: datetime64[ns]"
      ]
     },
     "execution_count": 41,
     "metadata": {},
     "output_type": "execute_result"
    }
   ],
   "source": [
    "pd.to_datetime(df['Discharge Date'], errors='coerce')"
   ]
  },
  {
   "cell_type": "code",
   "execution_count": 42,
   "id": "1edf26a6-bd54-4d6a-b050-768f1c00cac5",
   "metadata": {},
   "outputs": [],
   "source": [
    "#firstly check the validity of dates in discharge and force to follow the format \n",
    "df['Discharge Date'] = pd.to_datetime(\n",
    "    df['Discharge Date'], \n",
    "    dayfirst=True,     \n",
    "    errors='coerce'    \n",
    ")"
   ]
  },
  {
   "cell_type": "code",
   "execution_count": 43,
   "id": "a784f088-a37a-414d-ae7b-3916156fa89c",
   "metadata": {},
   "outputs": [
    {
     "name": "stdout",
     "output_type": "stream",
     "text": [
      "0   2024-02-02\n",
      "1   2019-08-26\n",
      "2   2022-10-07\n",
      "3   2020-12-18\n",
      "4   2022-10-09\n",
      "Name: Discharge Date, dtype: datetime64[ns]\n",
      "datetime64[ns]\n",
      "0\n"
     ]
    }
   ],
   "source": [
    "#printing out the results after checking if there are errors and if NaT values are still there \n",
    "print(df['Discharge Date'].head())\n",
    "print(df['Discharge Date'].dtype)\n",
    "print(df['Discharge Date'].isna().sum())  "
   ]
  },
  {
   "cell_type": "code",
   "execution_count": 44,
   "id": "e15f17eb-a2e3-42d3-8399-011de9fd11fa",
   "metadata": {},
   "outputs": [
    {
     "name": "stdout",
     "output_type": "stream",
     "text": [
      "datetime64[ns]\n"
     ]
    }
   ],
   "source": [
    "#change date of admission date and check invalid dates also \n",
    "df['Date of Admission'] = pd.to_datetime(\n",
    "    df['Date of Admission'], \n",
    "    dayfirst=True,    \n",
    "    errors='coerce'    \n",
    ")\n",
    "\n",
    "print(df['Date of Admission'].dtype)"
   ]
  },
  {
   "cell_type": "code",
   "execution_count": null,
   "id": "a2c07cb3-3ebe-4cb0-89bf-22032496293b",
   "metadata": {},
   "outputs": [],
   "source": []
  },
  {
   "cell_type": "code",
   "execution_count": 45,
   "id": "e38c95d1-1b5b-4156-8696-038d7c18b6e1",
   "metadata": {},
   "outputs": [],
   "source": [
    "# length of stay\n",
    "df['Length of Stay'] = (df['Discharge Date'] - df['Date of Admission']).dt.days"
   ]
  },
  {
   "cell_type": "code",
   "execution_count": 46,
   "id": "eeb8689e-87ec-45ad-ab7d-6694e8cae557",
   "metadata": {},
   "outputs": [],
   "source": [
    "# extract the month number \n",
    "df['Admission_Month'] = df['Date of Admission'].dt.month"
   ]
  },
  {
   "cell_type": "code",
   "execution_count": 47,
   "id": "3575ee2a-dcfa-40c8-88f1-c93fa1a7db25",
   "metadata": {},
   "outputs": [
    {
     "data": {
      "text/html": [
       "<div>\n",
       "<style scoped>\n",
       "    .dataframe tbody tr th:only-of-type {\n",
       "        vertical-align: middle;\n",
       "    }\n",
       "\n",
       "    .dataframe tbody tr th {\n",
       "        vertical-align: top;\n",
       "    }\n",
       "\n",
       "    .dataframe thead th {\n",
       "        text-align: right;\n",
       "    }\n",
       "</style>\n",
       "<table border=\"1\" class=\"dataframe\">\n",
       "  <thead>\n",
       "    <tr style=\"text-align: right;\">\n",
       "      <th></th>\n",
       "      <th>Name</th>\n",
       "      <th>Age</th>\n",
       "      <th>Gender</th>\n",
       "      <th>Blood Type</th>\n",
       "      <th>Medical Condition</th>\n",
       "      <th>Date of Admission</th>\n",
       "      <th>Doctor</th>\n",
       "      <th>Hospital</th>\n",
       "      <th>Insurance Provider</th>\n",
       "      <th>Billing Amount</th>\n",
       "      <th>Room Number</th>\n",
       "      <th>Admission Type</th>\n",
       "      <th>Discharge Date</th>\n",
       "      <th>Medication</th>\n",
       "      <th>Test Results</th>\n",
       "      <th>Age Group</th>\n",
       "      <th>Length of Stay</th>\n",
       "      <th>Admission_Month</th>\n",
       "    </tr>\n",
       "  </thead>\n",
       "  <tbody>\n",
       "    <tr>\n",
       "      <th>0</th>\n",
       "      <td>Bobby JacksOn</td>\n",
       "      <td>30</td>\n",
       "      <td>Male</td>\n",
       "      <td>B-</td>\n",
       "      <td>Cancer</td>\n",
       "      <td>2024-01-31</td>\n",
       "      <td>Matthew Smith</td>\n",
       "      <td>Sons and Miller</td>\n",
       "      <td>Blue Cross</td>\n",
       "      <td>18856.28131</td>\n",
       "      <td>328</td>\n",
       "      <td>Urgent</td>\n",
       "      <td>2024-02-02</td>\n",
       "      <td>Paracetamol</td>\n",
       "      <td>Normal</td>\n",
       "      <td>19-45</td>\n",
       "      <td>2</td>\n",
       "      <td>1</td>\n",
       "    </tr>\n",
       "    <tr>\n",
       "      <th>1</th>\n",
       "      <td>LesLie TErRy</td>\n",
       "      <td>62</td>\n",
       "      <td>Male</td>\n",
       "      <td>A+</td>\n",
       "      <td>Obesity</td>\n",
       "      <td>2019-08-20</td>\n",
       "      <td>Samantha Davies</td>\n",
       "      <td>Kim Inc</td>\n",
       "      <td>Medicare</td>\n",
       "      <td>33643.32729</td>\n",
       "      <td>265</td>\n",
       "      <td>Emergency</td>\n",
       "      <td>2019-08-26</td>\n",
       "      <td>Ibuprofen</td>\n",
       "      <td>Inconclusive</td>\n",
       "      <td>46-65</td>\n",
       "      <td>6</td>\n",
       "      <td>8</td>\n",
       "    </tr>\n",
       "    <tr>\n",
       "      <th>2</th>\n",
       "      <td>DaNnY sMitH</td>\n",
       "      <td>76</td>\n",
       "      <td>Female</td>\n",
       "      <td>A-</td>\n",
       "      <td>Obesity</td>\n",
       "      <td>2022-09-22</td>\n",
       "      <td>Tiffany Mitchell</td>\n",
       "      <td>Cook PLC</td>\n",
       "      <td>Aetna</td>\n",
       "      <td>27955.09608</td>\n",
       "      <td>205</td>\n",
       "      <td>Emergency</td>\n",
       "      <td>2022-10-07</td>\n",
       "      <td>Aspirin</td>\n",
       "      <td>Normal</td>\n",
       "      <td>66-95</td>\n",
       "      <td>15</td>\n",
       "      <td>9</td>\n",
       "    </tr>\n",
       "    <tr>\n",
       "      <th>3</th>\n",
       "      <td>andrEw waTtS</td>\n",
       "      <td>28</td>\n",
       "      <td>Female</td>\n",
       "      <td>O+</td>\n",
       "      <td>Diabetes</td>\n",
       "      <td>2020-11-18</td>\n",
       "      <td>Kevin Wells</td>\n",
       "      <td>Hernandez Rogers and Vang,</td>\n",
       "      <td>Medicare</td>\n",
       "      <td>37909.78241</td>\n",
       "      <td>450</td>\n",
       "      <td>Elective</td>\n",
       "      <td>2020-12-18</td>\n",
       "      <td>Ibuprofen</td>\n",
       "      <td>Abnormal</td>\n",
       "      <td>19-45</td>\n",
       "      <td>30</td>\n",
       "      <td>11</td>\n",
       "    </tr>\n",
       "    <tr>\n",
       "      <th>4</th>\n",
       "      <td>adrIENNE bEll</td>\n",
       "      <td>43</td>\n",
       "      <td>Female</td>\n",
       "      <td>AB+</td>\n",
       "      <td>Cancer</td>\n",
       "      <td>2022-09-19</td>\n",
       "      <td>Kathleen Hanna</td>\n",
       "      <td>White-White</td>\n",
       "      <td>Aetna</td>\n",
       "      <td>14238.31781</td>\n",
       "      <td>458</td>\n",
       "      <td>Urgent</td>\n",
       "      <td>2022-10-09</td>\n",
       "      <td>Penicillin</td>\n",
       "      <td>Abnormal</td>\n",
       "      <td>19-45</td>\n",
       "      <td>20</td>\n",
       "      <td>9</td>\n",
       "    </tr>\n",
       "  </tbody>\n",
       "</table>\n",
       "</div>"
      ],
      "text/plain": [
       "            Name  Age  Gender Blood Type Medical Condition Date of Admission  \\\n",
       "0  Bobby JacksOn   30    Male         B-            Cancer        2024-01-31   \n",
       "1   LesLie TErRy   62    Male         A+           Obesity        2019-08-20   \n",
       "2    DaNnY sMitH   76  Female         A-           Obesity        2022-09-22   \n",
       "3   andrEw waTtS   28  Female         O+          Diabetes        2020-11-18   \n",
       "4  adrIENNE bEll   43  Female        AB+            Cancer        2022-09-19   \n",
       "\n",
       "             Doctor                    Hospital Insurance Provider  \\\n",
       "0     Matthew Smith             Sons and Miller         Blue Cross   \n",
       "1   Samantha Davies                     Kim Inc           Medicare   \n",
       "2  Tiffany Mitchell                    Cook PLC              Aetna   \n",
       "3       Kevin Wells  Hernandez Rogers and Vang,           Medicare   \n",
       "4    Kathleen Hanna                 White-White              Aetna   \n",
       "\n",
       "   Billing Amount  Room Number Admission Type Discharge Date   Medication  \\\n",
       "0     18856.28131          328         Urgent     2024-02-02  Paracetamol   \n",
       "1     33643.32729          265      Emergency     2019-08-26    Ibuprofen   \n",
       "2     27955.09608          205      Emergency     2022-10-07      Aspirin   \n",
       "3     37909.78241          450       Elective     2020-12-18    Ibuprofen   \n",
       "4     14238.31781          458         Urgent     2022-10-09   Penicillin   \n",
       "\n",
       "   Test Results Age Group  Length of Stay  Admission_Month  \n",
       "0        Normal     19-45               2                1  \n",
       "1  Inconclusive     46-65               6                8  \n",
       "2        Normal     66-95              15                9  \n",
       "3      Abnormal     19-45              30               11  \n",
       "4      Abnormal     19-45              20                9  "
      ]
     },
     "execution_count": 47,
     "metadata": {},
     "output_type": "execute_result"
    }
   ],
   "source": [
    "df.head()"
   ]
  },
  {
   "cell_type": "code",
   "execution_count": null,
   "id": "fa3f0cc9-0949-409c-801b-3dfb69986e81",
   "metadata": {},
   "outputs": [],
   "source": []
  },
  {
   "cell_type": "code",
   "execution_count": 48,
   "id": "ab818e41-b37c-4878-9514-2f65e2f246ba",
   "metadata": {},
   "outputs": [
    {
     "data": {
      "text/html": [
       "<div>\n",
       "<style scoped>\n",
       "    .dataframe tbody tr th:only-of-type {\n",
       "        vertical-align: middle;\n",
       "    }\n",
       "\n",
       "    .dataframe tbody tr th {\n",
       "        vertical-align: top;\n",
       "    }\n",
       "\n",
       "    .dataframe thead th {\n",
       "        text-align: right;\n",
       "    }\n",
       "</style>\n",
       "<table border=\"1\" class=\"dataframe\">\n",
       "  <thead>\n",
       "    <tr style=\"text-align: right;\">\n",
       "      <th></th>\n",
       "      <th>Name</th>\n",
       "      <th>Age</th>\n",
       "      <th>Gender</th>\n",
       "      <th>Blood Type</th>\n",
       "      <th>Medical Condition</th>\n",
       "      <th>Date of Admission</th>\n",
       "      <th>Doctor</th>\n",
       "      <th>Hospital</th>\n",
       "      <th>Insurance Provider</th>\n",
       "      <th>Billing Amount</th>\n",
       "      <th>Room Number</th>\n",
       "      <th>Admission Type</th>\n",
       "      <th>Discharge Date</th>\n",
       "      <th>Medication</th>\n",
       "      <th>Test Results</th>\n",
       "      <th>Age Group</th>\n",
       "      <th>Length of Stay</th>\n",
       "      <th>Admission_Month</th>\n",
       "    </tr>\n",
       "  </thead>\n",
       "  <tbody>\n",
       "    <tr>\n",
       "      <th>0</th>\n",
       "      <td>Bobby JacksOn</td>\n",
       "      <td>30</td>\n",
       "      <td>1</td>\n",
       "      <td>5</td>\n",
       "      <td>2</td>\n",
       "      <td>2024-01-31</td>\n",
       "      <td>Matthew Smith</td>\n",
       "      <td>Sons and Miller</td>\n",
       "      <td>Blue Cross</td>\n",
       "      <td>18856.28131</td>\n",
       "      <td>328</td>\n",
       "      <td>2</td>\n",
       "      <td>2024-02-02</td>\n",
       "      <td>3</td>\n",
       "      <td>2</td>\n",
       "      <td>19-45</td>\n",
       "      <td>2</td>\n",
       "      <td>1</td>\n",
       "    </tr>\n",
       "    <tr>\n",
       "      <th>1</th>\n",
       "      <td>LesLie TErRy</td>\n",
       "      <td>62</td>\n",
       "      <td>1</td>\n",
       "      <td>0</td>\n",
       "      <td>5</td>\n",
       "      <td>2019-08-20</td>\n",
       "      <td>Samantha Davies</td>\n",
       "      <td>Kim Inc</td>\n",
       "      <td>Medicare</td>\n",
       "      <td>33643.32729</td>\n",
       "      <td>265</td>\n",
       "      <td>1</td>\n",
       "      <td>2019-08-26</td>\n",
       "      <td>1</td>\n",
       "      <td>1</td>\n",
       "      <td>46-65</td>\n",
       "      <td>6</td>\n",
       "      <td>8</td>\n",
       "    </tr>\n",
       "    <tr>\n",
       "      <th>2</th>\n",
       "      <td>DaNnY sMitH</td>\n",
       "      <td>76</td>\n",
       "      <td>0</td>\n",
       "      <td>1</td>\n",
       "      <td>5</td>\n",
       "      <td>2022-09-22</td>\n",
       "      <td>Tiffany Mitchell</td>\n",
       "      <td>Cook PLC</td>\n",
       "      <td>Aetna</td>\n",
       "      <td>27955.09608</td>\n",
       "      <td>205</td>\n",
       "      <td>1</td>\n",
       "      <td>2022-10-07</td>\n",
       "      <td>0</td>\n",
       "      <td>2</td>\n",
       "      <td>66-95</td>\n",
       "      <td>15</td>\n",
       "      <td>9</td>\n",
       "    </tr>\n",
       "    <tr>\n",
       "      <th>3</th>\n",
       "      <td>andrEw waTtS</td>\n",
       "      <td>28</td>\n",
       "      <td>0</td>\n",
       "      <td>6</td>\n",
       "      <td>3</td>\n",
       "      <td>2020-11-18</td>\n",
       "      <td>Kevin Wells</td>\n",
       "      <td>Hernandez Rogers and Vang,</td>\n",
       "      <td>Medicare</td>\n",
       "      <td>37909.78241</td>\n",
       "      <td>450</td>\n",
       "      <td>0</td>\n",
       "      <td>2020-12-18</td>\n",
       "      <td>1</td>\n",
       "      <td>0</td>\n",
       "      <td>19-45</td>\n",
       "      <td>30</td>\n",
       "      <td>11</td>\n",
       "    </tr>\n",
       "    <tr>\n",
       "      <th>4</th>\n",
       "      <td>adrIENNE bEll</td>\n",
       "      <td>43</td>\n",
       "      <td>0</td>\n",
       "      <td>2</td>\n",
       "      <td>2</td>\n",
       "      <td>2022-09-19</td>\n",
       "      <td>Kathleen Hanna</td>\n",
       "      <td>White-White</td>\n",
       "      <td>Aetna</td>\n",
       "      <td>14238.31781</td>\n",
       "      <td>458</td>\n",
       "      <td>2</td>\n",
       "      <td>2022-10-09</td>\n",
       "      <td>4</td>\n",
       "      <td>0</td>\n",
       "      <td>19-45</td>\n",
       "      <td>20</td>\n",
       "      <td>9</td>\n",
       "    </tr>\n",
       "  </tbody>\n",
       "</table>\n",
       "</div>"
      ],
      "text/plain": [
       "            Name  Age  Gender  Blood Type  Medical Condition  \\\n",
       "0  Bobby JacksOn   30       1           5                  2   \n",
       "1   LesLie TErRy   62       1           0                  5   \n",
       "2    DaNnY sMitH   76       0           1                  5   \n",
       "3   andrEw waTtS   28       0           6                  3   \n",
       "4  adrIENNE bEll   43       0           2                  2   \n",
       "\n",
       "  Date of Admission            Doctor                    Hospital  \\\n",
       "0        2024-01-31     Matthew Smith             Sons and Miller   \n",
       "1        2019-08-20   Samantha Davies                     Kim Inc   \n",
       "2        2022-09-22  Tiffany Mitchell                    Cook PLC   \n",
       "3        2020-11-18       Kevin Wells  Hernandez Rogers and Vang,   \n",
       "4        2022-09-19    Kathleen Hanna                 White-White   \n",
       "\n",
       "  Insurance Provider  Billing Amount  Room Number  Admission Type  \\\n",
       "0         Blue Cross     18856.28131          328               2   \n",
       "1           Medicare     33643.32729          265               1   \n",
       "2              Aetna     27955.09608          205               1   \n",
       "3           Medicare     37909.78241          450               0   \n",
       "4              Aetna     14238.31781          458               2   \n",
       "\n",
       "  Discharge Date  Medication  Test Results Age Group  Length of Stay  \\\n",
       "0     2024-02-02           3             2     19-45               2   \n",
       "1     2019-08-26           1             1     46-65               6   \n",
       "2     2022-10-07           0             2     66-95              15   \n",
       "3     2020-12-18           1             0     19-45              30   \n",
       "4     2022-10-09           4             0     19-45              20   \n",
       "\n",
       "   Admission_Month  \n",
       "0                1  \n",
       "1                8  \n",
       "2                9  \n",
       "3               11  \n",
       "4                9  "
      ]
     },
     "execution_count": 48,
     "metadata": {},
     "output_type": "execute_result"
    }
   ],
   "source": [
    "#label encoding cat variables \n",
    "from sklearn.preprocessing import LabelEncoder \n",
    "categorical_cols = ['Gender', 'Blood Type', 'Medical Condition', \n",
    "                    'Admission Type', 'Medication',  'Test Results']\n",
    "\n",
    "\n",
    "le = LabelEncoder()\n",
    "for col in categorical_cols:\n",
    "    df[col] = le.fit_transform(df[col])\n",
    "\n",
    "df.head()"
   ]
  },
  {
   "cell_type": "code",
   "execution_count": 50,
   "id": "0c2c9dcf-9dab-47f2-a0a3-2ca17e72a83c",
   "metadata": {},
   "outputs": [],
   "source": [
    "# drop columns ( name, date columns, age group, doctor and hospitals, insurance provider)\n",
    "df1 = df.drop(columns=[\n",
    "    'Name', 'Date of Admission', 'Discharge Date', \n",
    "    'Age Group', 'Doctor', 'Hospital', 'Insurance Provider', \n",
    "    'Room Number'\n",
    "])"
   ]
  },
  {
   "cell_type": "markdown",
   "id": "88bfe209-c683-46bd-ab90-0d7f6d37332a",
   "metadata": {},
   "source": [
    "<b> The columns droped like names, doctors and hospitals they just identifiers. <br> There is no signficance impact in model development for those columns.<br>\n",
    "Well, the data is ready for model development."
   ]
  },
  {
   "cell_type": "code",
   "execution_count": null,
   "id": "e69a4e77-bcc6-4daa-b1a9-c963f74d27c5",
   "metadata": {},
   "outputs": [],
   "source": []
  },
  {
   "cell_type": "markdown",
   "id": "3c51e7e5-5c65-48ff-8c87-5f97f6b54850",
   "metadata": {},
   "source": [
    " ## <b> Model Development \n",
    " 1. Data preparation (train/valid/test split, scaling)\n",
    " 2. Model training & tuning (parameter tuning)"
   ]
  },
  {
   "cell_type": "code",
   "execution_count": 51,
   "id": "ac8faa89-0464-44c1-8649-e0537b2b7e82",
   "metadata": {},
   "outputs": [],
   "source": [
    "#no scaling when dealing with unifromly distrbuted columns \n",
    "#model selection is based on the distribution of the target variable which is unifromly distributed ( random forest, XGboost)\n",
    "#importing necessary miodels for model development \n",
    "# spliting the data into X and y \n",
    "from sklearn.model_selection import train_test_split\n",
    "from sklearn.ensemble import RandomForestRegressor\n",
    "from xgboost import XGBRegressor\n",
    "\n",
    "X= df1.drop('Billing Amount', axis = 1)\n",
    "y = df1['Billing Amount']\n",
    "\n",
    "X_train, X_test, y_train, y_test = train_test_split(X, y, test_size=0.2, random_state = 45)"
   ]
  },
  {
   "cell_type": "code",
   "execution_count": 52,
   "id": "d378f6f4-1105-4162-8f85-2fca7c2e8b11",
   "metadata": {},
   "outputs": [],
   "source": [
    "#well,initialize the models \n",
    "\n",
    "#initialize the random forest regressor \n",
    "rf = RandomForestRegressor( \n",
    "    n_estimators = 100, \n",
    "    random_state = 42, \n",
    "    max_depth = None, \n",
    "    n_jobs=-1) \n",
    "\n",
    "# initialize XGBoosting\n",
    "xgb = XGBRegressor(\n",
    "    n_estimators = 250,\n",
    "    learning_rate = 0.1,\n",
    "    max_depth = 6,\n",
    "    subsample = 0.8,\n",
    "    colsample_bytree = 0.8,\n",
    "    random_state = 42,\n",
    "    n_jobs = -1\n",
    ")"
   ]
  },
  {
   "cell_type": "code",
   "execution_count": 53,
   "id": "4c4b24b1-ec0d-404a-bda8-2dba9bb74e45",
   "metadata": {},
   "outputs": [
    {
     "data": {
      "text/html": [
       "<style>#sk-container-id-1 {\n",
       "  /* Definition of color scheme common for light and dark mode */\n",
       "  --sklearn-color-text: black;\n",
       "  --sklearn-color-line: gray;\n",
       "  /* Definition of color scheme for unfitted estimators */\n",
       "  --sklearn-color-unfitted-level-0: #fff5e6;\n",
       "  --sklearn-color-unfitted-level-1: #f6e4d2;\n",
       "  --sklearn-color-unfitted-level-2: #ffe0b3;\n",
       "  --sklearn-color-unfitted-level-3: chocolate;\n",
       "  /* Definition of color scheme for fitted estimators */\n",
       "  --sklearn-color-fitted-level-0: #f0f8ff;\n",
       "  --sklearn-color-fitted-level-1: #d4ebff;\n",
       "  --sklearn-color-fitted-level-2: #b3dbfd;\n",
       "  --sklearn-color-fitted-level-3: cornflowerblue;\n",
       "\n",
       "  /* Specific color for light theme */\n",
       "  --sklearn-color-text-on-default-background: var(--sg-text-color, var(--theme-code-foreground, var(--jp-content-font-color1, black)));\n",
       "  --sklearn-color-background: var(--sg-background-color, var(--theme-background, var(--jp-layout-color0, white)));\n",
       "  --sklearn-color-border-box: var(--sg-text-color, var(--theme-code-foreground, var(--jp-content-font-color1, black)));\n",
       "  --sklearn-color-icon: #696969;\n",
       "\n",
       "  @media (prefers-color-scheme: dark) {\n",
       "    /* Redefinition of color scheme for dark theme */\n",
       "    --sklearn-color-text-on-default-background: var(--sg-text-color, var(--theme-code-foreground, var(--jp-content-font-color1, white)));\n",
       "    --sklearn-color-background: var(--sg-background-color, var(--theme-background, var(--jp-layout-color0, #111)));\n",
       "    --sklearn-color-border-box: var(--sg-text-color, var(--theme-code-foreground, var(--jp-content-font-color1, white)));\n",
       "    --sklearn-color-icon: #878787;\n",
       "  }\n",
       "}\n",
       "\n",
       "#sk-container-id-1 {\n",
       "  color: var(--sklearn-color-text);\n",
       "}\n",
       "\n",
       "#sk-container-id-1 pre {\n",
       "  padding: 0;\n",
       "}\n",
       "\n",
       "#sk-container-id-1 input.sk-hidden--visually {\n",
       "  border: 0;\n",
       "  clip: rect(1px 1px 1px 1px);\n",
       "  clip: rect(1px, 1px, 1px, 1px);\n",
       "  height: 1px;\n",
       "  margin: -1px;\n",
       "  overflow: hidden;\n",
       "  padding: 0;\n",
       "  position: absolute;\n",
       "  width: 1px;\n",
       "}\n",
       "\n",
       "#sk-container-id-1 div.sk-dashed-wrapped {\n",
       "  border: 1px dashed var(--sklearn-color-line);\n",
       "  margin: 0 0.4em 0.5em 0.4em;\n",
       "  box-sizing: border-box;\n",
       "  padding-bottom: 0.4em;\n",
       "  background-color: var(--sklearn-color-background);\n",
       "}\n",
       "\n",
       "#sk-container-id-1 div.sk-container {\n",
       "  /* jupyter's `normalize.less` sets `[hidden] { display: none; }`\n",
       "     but bootstrap.min.css set `[hidden] { display: none !important; }`\n",
       "     so we also need the `!important` here to be able to override the\n",
       "     default hidden behavior on the sphinx rendered scikit-learn.org.\n",
       "     See: https://github.com/scikit-learn/scikit-learn/issues/21755 */\n",
       "  display: inline-block !important;\n",
       "  position: relative;\n",
       "}\n",
       "\n",
       "#sk-container-id-1 div.sk-text-repr-fallback {\n",
       "  display: none;\n",
       "}\n",
       "\n",
       "div.sk-parallel-item,\n",
       "div.sk-serial,\n",
       "div.sk-item {\n",
       "  /* draw centered vertical line to link estimators */\n",
       "  background-image: linear-gradient(var(--sklearn-color-text-on-default-background), var(--sklearn-color-text-on-default-background));\n",
       "  background-size: 2px 100%;\n",
       "  background-repeat: no-repeat;\n",
       "  background-position: center center;\n",
       "}\n",
       "\n",
       "/* Parallel-specific style estimator block */\n",
       "\n",
       "#sk-container-id-1 div.sk-parallel-item::after {\n",
       "  content: \"\";\n",
       "  width: 100%;\n",
       "  border-bottom: 2px solid var(--sklearn-color-text-on-default-background);\n",
       "  flex-grow: 1;\n",
       "}\n",
       "\n",
       "#sk-container-id-1 div.sk-parallel {\n",
       "  display: flex;\n",
       "  align-items: stretch;\n",
       "  justify-content: center;\n",
       "  background-color: var(--sklearn-color-background);\n",
       "  position: relative;\n",
       "}\n",
       "\n",
       "#sk-container-id-1 div.sk-parallel-item {\n",
       "  display: flex;\n",
       "  flex-direction: column;\n",
       "}\n",
       "\n",
       "#sk-container-id-1 div.sk-parallel-item:first-child::after {\n",
       "  align-self: flex-end;\n",
       "  width: 50%;\n",
       "}\n",
       "\n",
       "#sk-container-id-1 div.sk-parallel-item:last-child::after {\n",
       "  align-self: flex-start;\n",
       "  width: 50%;\n",
       "}\n",
       "\n",
       "#sk-container-id-1 div.sk-parallel-item:only-child::after {\n",
       "  width: 0;\n",
       "}\n",
       "\n",
       "/* Serial-specific style estimator block */\n",
       "\n",
       "#sk-container-id-1 div.sk-serial {\n",
       "  display: flex;\n",
       "  flex-direction: column;\n",
       "  align-items: center;\n",
       "  background-color: var(--sklearn-color-background);\n",
       "  padding-right: 1em;\n",
       "  padding-left: 1em;\n",
       "}\n",
       "\n",
       "\n",
       "/* Toggleable style: style used for estimator/Pipeline/ColumnTransformer box that is\n",
       "clickable and can be expanded/collapsed.\n",
       "- Pipeline and ColumnTransformer use this feature and define the default style\n",
       "- Estimators will overwrite some part of the style using the `sk-estimator` class\n",
       "*/\n",
       "\n",
       "/* Pipeline and ColumnTransformer style (default) */\n",
       "\n",
       "#sk-container-id-1 div.sk-toggleable {\n",
       "  /* Default theme specific background. It is overwritten whether we have a\n",
       "  specific estimator or a Pipeline/ColumnTransformer */\n",
       "  background-color: var(--sklearn-color-background);\n",
       "}\n",
       "\n",
       "/* Toggleable label */\n",
       "#sk-container-id-1 label.sk-toggleable__label {\n",
       "  cursor: pointer;\n",
       "  display: block;\n",
       "  width: 100%;\n",
       "  margin-bottom: 0;\n",
       "  padding: 0.5em;\n",
       "  box-sizing: border-box;\n",
       "  text-align: center;\n",
       "}\n",
       "\n",
       "#sk-container-id-1 label.sk-toggleable__label-arrow:before {\n",
       "  /* Arrow on the left of the label */\n",
       "  content: \"▸\";\n",
       "  float: left;\n",
       "  margin-right: 0.25em;\n",
       "  color: var(--sklearn-color-icon);\n",
       "}\n",
       "\n",
       "#sk-container-id-1 label.sk-toggleable__label-arrow:hover:before {\n",
       "  color: var(--sklearn-color-text);\n",
       "}\n",
       "\n",
       "/* Toggleable content - dropdown */\n",
       "\n",
       "#sk-container-id-1 div.sk-toggleable__content {\n",
       "  max-height: 0;\n",
       "  max-width: 0;\n",
       "  overflow: hidden;\n",
       "  text-align: left;\n",
       "  /* unfitted */\n",
       "  background-color: var(--sklearn-color-unfitted-level-0);\n",
       "}\n",
       "\n",
       "#sk-container-id-1 div.sk-toggleable__content.fitted {\n",
       "  /* fitted */\n",
       "  background-color: var(--sklearn-color-fitted-level-0);\n",
       "}\n",
       "\n",
       "#sk-container-id-1 div.sk-toggleable__content pre {\n",
       "  margin: 0.2em;\n",
       "  border-radius: 0.25em;\n",
       "  color: var(--sklearn-color-text);\n",
       "  /* unfitted */\n",
       "  background-color: var(--sklearn-color-unfitted-level-0);\n",
       "}\n",
       "\n",
       "#sk-container-id-1 div.sk-toggleable__content.fitted pre {\n",
       "  /* unfitted */\n",
       "  background-color: var(--sklearn-color-fitted-level-0);\n",
       "}\n",
       "\n",
       "#sk-container-id-1 input.sk-toggleable__control:checked~div.sk-toggleable__content {\n",
       "  /* Expand drop-down */\n",
       "  max-height: 200px;\n",
       "  max-width: 100%;\n",
       "  overflow: auto;\n",
       "}\n",
       "\n",
       "#sk-container-id-1 input.sk-toggleable__control:checked~label.sk-toggleable__label-arrow:before {\n",
       "  content: \"▾\";\n",
       "}\n",
       "\n",
       "/* Pipeline/ColumnTransformer-specific style */\n",
       "\n",
       "#sk-container-id-1 div.sk-label input.sk-toggleable__control:checked~label.sk-toggleable__label {\n",
       "  color: var(--sklearn-color-text);\n",
       "  background-color: var(--sklearn-color-unfitted-level-2);\n",
       "}\n",
       "\n",
       "#sk-container-id-1 div.sk-label.fitted input.sk-toggleable__control:checked~label.sk-toggleable__label {\n",
       "  background-color: var(--sklearn-color-fitted-level-2);\n",
       "}\n",
       "\n",
       "/* Estimator-specific style */\n",
       "\n",
       "/* Colorize estimator box */\n",
       "#sk-container-id-1 div.sk-estimator input.sk-toggleable__control:checked~label.sk-toggleable__label {\n",
       "  /* unfitted */\n",
       "  background-color: var(--sklearn-color-unfitted-level-2);\n",
       "}\n",
       "\n",
       "#sk-container-id-1 div.sk-estimator.fitted input.sk-toggleable__control:checked~label.sk-toggleable__label {\n",
       "  /* fitted */\n",
       "  background-color: var(--sklearn-color-fitted-level-2);\n",
       "}\n",
       "\n",
       "#sk-container-id-1 div.sk-label label.sk-toggleable__label,\n",
       "#sk-container-id-1 div.sk-label label {\n",
       "  /* The background is the default theme color */\n",
       "  color: var(--sklearn-color-text-on-default-background);\n",
       "}\n",
       "\n",
       "/* On hover, darken the color of the background */\n",
       "#sk-container-id-1 div.sk-label:hover label.sk-toggleable__label {\n",
       "  color: var(--sklearn-color-text);\n",
       "  background-color: var(--sklearn-color-unfitted-level-2);\n",
       "}\n",
       "\n",
       "/* Label box, darken color on hover, fitted */\n",
       "#sk-container-id-1 div.sk-label.fitted:hover label.sk-toggleable__label.fitted {\n",
       "  color: var(--sklearn-color-text);\n",
       "  background-color: var(--sklearn-color-fitted-level-2);\n",
       "}\n",
       "\n",
       "/* Estimator label */\n",
       "\n",
       "#sk-container-id-1 div.sk-label label {\n",
       "  font-family: monospace;\n",
       "  font-weight: bold;\n",
       "  display: inline-block;\n",
       "  line-height: 1.2em;\n",
       "}\n",
       "\n",
       "#sk-container-id-1 div.sk-label-container {\n",
       "  text-align: center;\n",
       "}\n",
       "\n",
       "/* Estimator-specific */\n",
       "#sk-container-id-1 div.sk-estimator {\n",
       "  font-family: monospace;\n",
       "  border: 1px dotted var(--sklearn-color-border-box);\n",
       "  border-radius: 0.25em;\n",
       "  box-sizing: border-box;\n",
       "  margin-bottom: 0.5em;\n",
       "  /* unfitted */\n",
       "  background-color: var(--sklearn-color-unfitted-level-0);\n",
       "}\n",
       "\n",
       "#sk-container-id-1 div.sk-estimator.fitted {\n",
       "  /* fitted */\n",
       "  background-color: var(--sklearn-color-fitted-level-0);\n",
       "}\n",
       "\n",
       "/* on hover */\n",
       "#sk-container-id-1 div.sk-estimator:hover {\n",
       "  /* unfitted */\n",
       "  background-color: var(--sklearn-color-unfitted-level-2);\n",
       "}\n",
       "\n",
       "#sk-container-id-1 div.sk-estimator.fitted:hover {\n",
       "  /* fitted */\n",
       "  background-color: var(--sklearn-color-fitted-level-2);\n",
       "}\n",
       "\n",
       "/* Specification for estimator info (e.g. \"i\" and \"?\") */\n",
       "\n",
       "/* Common style for \"i\" and \"?\" */\n",
       "\n",
       ".sk-estimator-doc-link,\n",
       "a:link.sk-estimator-doc-link,\n",
       "a:visited.sk-estimator-doc-link {\n",
       "  float: right;\n",
       "  font-size: smaller;\n",
       "  line-height: 1em;\n",
       "  font-family: monospace;\n",
       "  background-color: var(--sklearn-color-background);\n",
       "  border-radius: 1em;\n",
       "  height: 1em;\n",
       "  width: 1em;\n",
       "  text-decoration: none !important;\n",
       "  margin-left: 1ex;\n",
       "  /* unfitted */\n",
       "  border: var(--sklearn-color-unfitted-level-1) 1pt solid;\n",
       "  color: var(--sklearn-color-unfitted-level-1);\n",
       "}\n",
       "\n",
       ".sk-estimator-doc-link.fitted,\n",
       "a:link.sk-estimator-doc-link.fitted,\n",
       "a:visited.sk-estimator-doc-link.fitted {\n",
       "  /* fitted */\n",
       "  border: var(--sklearn-color-fitted-level-1) 1pt solid;\n",
       "  color: var(--sklearn-color-fitted-level-1);\n",
       "}\n",
       "\n",
       "/* On hover */\n",
       "div.sk-estimator:hover .sk-estimator-doc-link:hover,\n",
       ".sk-estimator-doc-link:hover,\n",
       "div.sk-label-container:hover .sk-estimator-doc-link:hover,\n",
       ".sk-estimator-doc-link:hover {\n",
       "  /* unfitted */\n",
       "  background-color: var(--sklearn-color-unfitted-level-3);\n",
       "  color: var(--sklearn-color-background);\n",
       "  text-decoration: none;\n",
       "}\n",
       "\n",
       "div.sk-estimator.fitted:hover .sk-estimator-doc-link.fitted:hover,\n",
       ".sk-estimator-doc-link.fitted:hover,\n",
       "div.sk-label-container:hover .sk-estimator-doc-link.fitted:hover,\n",
       ".sk-estimator-doc-link.fitted:hover {\n",
       "  /* fitted */\n",
       "  background-color: var(--sklearn-color-fitted-level-3);\n",
       "  color: var(--sklearn-color-background);\n",
       "  text-decoration: none;\n",
       "}\n",
       "\n",
       "/* Span, style for the box shown on hovering the info icon */\n",
       ".sk-estimator-doc-link span {\n",
       "  display: none;\n",
       "  z-index: 9999;\n",
       "  position: relative;\n",
       "  font-weight: normal;\n",
       "  right: .2ex;\n",
       "  padding: .5ex;\n",
       "  margin: .5ex;\n",
       "  width: min-content;\n",
       "  min-width: 20ex;\n",
       "  max-width: 50ex;\n",
       "  color: var(--sklearn-color-text);\n",
       "  box-shadow: 2pt 2pt 4pt #999;\n",
       "  /* unfitted */\n",
       "  background: var(--sklearn-color-unfitted-level-0);\n",
       "  border: .5pt solid var(--sklearn-color-unfitted-level-3);\n",
       "}\n",
       "\n",
       ".sk-estimator-doc-link.fitted span {\n",
       "  /* fitted */\n",
       "  background: var(--sklearn-color-fitted-level-0);\n",
       "  border: var(--sklearn-color-fitted-level-3);\n",
       "}\n",
       "\n",
       ".sk-estimator-doc-link:hover span {\n",
       "  display: block;\n",
       "}\n",
       "\n",
       "/* \"?\"-specific style due to the `<a>` HTML tag */\n",
       "\n",
       "#sk-container-id-1 a.estimator_doc_link {\n",
       "  float: right;\n",
       "  font-size: 1rem;\n",
       "  line-height: 1em;\n",
       "  font-family: monospace;\n",
       "  background-color: var(--sklearn-color-background);\n",
       "  border-radius: 1rem;\n",
       "  height: 1rem;\n",
       "  width: 1rem;\n",
       "  text-decoration: none;\n",
       "  /* unfitted */\n",
       "  color: var(--sklearn-color-unfitted-level-1);\n",
       "  border: var(--sklearn-color-unfitted-level-1) 1pt solid;\n",
       "}\n",
       "\n",
       "#sk-container-id-1 a.estimator_doc_link.fitted {\n",
       "  /* fitted */\n",
       "  border: var(--sklearn-color-fitted-level-1) 1pt solid;\n",
       "  color: var(--sklearn-color-fitted-level-1);\n",
       "}\n",
       "\n",
       "/* On hover */\n",
       "#sk-container-id-1 a.estimator_doc_link:hover {\n",
       "  /* unfitted */\n",
       "  background-color: var(--sklearn-color-unfitted-level-3);\n",
       "  color: var(--sklearn-color-background);\n",
       "  text-decoration: none;\n",
       "}\n",
       "\n",
       "#sk-container-id-1 a.estimator_doc_link.fitted:hover {\n",
       "  /* fitted */\n",
       "  background-color: var(--sklearn-color-fitted-level-3);\n",
       "}\n",
       "</style><div id=\"sk-container-id-1\" class=\"sk-top-container\"><div class=\"sk-text-repr-fallback\"><pre>RandomForestRegressor(n_jobs=-1, random_state=42)</pre><b>In a Jupyter environment, please rerun this cell to show the HTML representation or trust the notebook. <br />On GitHub, the HTML representation is unable to render, please try loading this page with nbviewer.org.</b></div><div class=\"sk-container\" hidden><div class=\"sk-item\"><div class=\"sk-estimator fitted sk-toggleable\"><input class=\"sk-toggleable__control sk-hidden--visually\" id=\"sk-estimator-id-1\" type=\"checkbox\" checked><label for=\"sk-estimator-id-1\" class=\"sk-toggleable__label fitted sk-toggleable__label-arrow fitted\">&nbsp;&nbsp;RandomForestRegressor<a class=\"sk-estimator-doc-link fitted\" rel=\"noreferrer\" target=\"_blank\" href=\"https://scikit-learn.org/1.5/modules/generated/sklearn.ensemble.RandomForestRegressor.html\">?<span>Documentation for RandomForestRegressor</span></a><span class=\"sk-estimator-doc-link fitted\">i<span>Fitted</span></span></label><div class=\"sk-toggleable__content fitted\"><pre>RandomForestRegressor(n_jobs=-1, random_state=42)</pre></div> </div></div></div></div>"
      ],
      "text/plain": [
       "RandomForestRegressor(n_jobs=-1, random_state=42)"
      ]
     },
     "execution_count": 53,
     "metadata": {},
     "output_type": "execute_result"
    }
   ],
   "source": [
    "# train the models \n",
    "rf_model = rf.fit(X_train, y_train)\n",
    "rf_model"
   ]
  },
  {
   "cell_type": "code",
   "execution_count": 54,
   "id": "3868b40d-64d5-4f8b-aac6-d533cb5b2fc1",
   "metadata": {},
   "outputs": [
    {
     "data": {
      "text/html": [
       "<style>#sk-container-id-2 {\n",
       "  /* Definition of color scheme common for light and dark mode */\n",
       "  --sklearn-color-text: black;\n",
       "  --sklearn-color-line: gray;\n",
       "  /* Definition of color scheme for unfitted estimators */\n",
       "  --sklearn-color-unfitted-level-0: #fff5e6;\n",
       "  --sklearn-color-unfitted-level-1: #f6e4d2;\n",
       "  --sklearn-color-unfitted-level-2: #ffe0b3;\n",
       "  --sklearn-color-unfitted-level-3: chocolate;\n",
       "  /* Definition of color scheme for fitted estimators */\n",
       "  --sklearn-color-fitted-level-0: #f0f8ff;\n",
       "  --sklearn-color-fitted-level-1: #d4ebff;\n",
       "  --sklearn-color-fitted-level-2: #b3dbfd;\n",
       "  --sklearn-color-fitted-level-3: cornflowerblue;\n",
       "\n",
       "  /* Specific color for light theme */\n",
       "  --sklearn-color-text-on-default-background: var(--sg-text-color, var(--theme-code-foreground, var(--jp-content-font-color1, black)));\n",
       "  --sklearn-color-background: var(--sg-background-color, var(--theme-background, var(--jp-layout-color0, white)));\n",
       "  --sklearn-color-border-box: var(--sg-text-color, var(--theme-code-foreground, var(--jp-content-font-color1, black)));\n",
       "  --sklearn-color-icon: #696969;\n",
       "\n",
       "  @media (prefers-color-scheme: dark) {\n",
       "    /* Redefinition of color scheme for dark theme */\n",
       "    --sklearn-color-text-on-default-background: var(--sg-text-color, var(--theme-code-foreground, var(--jp-content-font-color1, white)));\n",
       "    --sklearn-color-background: var(--sg-background-color, var(--theme-background, var(--jp-layout-color0, #111)));\n",
       "    --sklearn-color-border-box: var(--sg-text-color, var(--theme-code-foreground, var(--jp-content-font-color1, white)));\n",
       "    --sklearn-color-icon: #878787;\n",
       "  }\n",
       "}\n",
       "\n",
       "#sk-container-id-2 {\n",
       "  color: var(--sklearn-color-text);\n",
       "}\n",
       "\n",
       "#sk-container-id-2 pre {\n",
       "  padding: 0;\n",
       "}\n",
       "\n",
       "#sk-container-id-2 input.sk-hidden--visually {\n",
       "  border: 0;\n",
       "  clip: rect(1px 1px 1px 1px);\n",
       "  clip: rect(1px, 1px, 1px, 1px);\n",
       "  height: 1px;\n",
       "  margin: -1px;\n",
       "  overflow: hidden;\n",
       "  padding: 0;\n",
       "  position: absolute;\n",
       "  width: 1px;\n",
       "}\n",
       "\n",
       "#sk-container-id-2 div.sk-dashed-wrapped {\n",
       "  border: 1px dashed var(--sklearn-color-line);\n",
       "  margin: 0 0.4em 0.5em 0.4em;\n",
       "  box-sizing: border-box;\n",
       "  padding-bottom: 0.4em;\n",
       "  background-color: var(--sklearn-color-background);\n",
       "}\n",
       "\n",
       "#sk-container-id-2 div.sk-container {\n",
       "  /* jupyter's `normalize.less` sets `[hidden] { display: none; }`\n",
       "     but bootstrap.min.css set `[hidden] { display: none !important; }`\n",
       "     so we also need the `!important` here to be able to override the\n",
       "     default hidden behavior on the sphinx rendered scikit-learn.org.\n",
       "     See: https://github.com/scikit-learn/scikit-learn/issues/21755 */\n",
       "  display: inline-block !important;\n",
       "  position: relative;\n",
       "}\n",
       "\n",
       "#sk-container-id-2 div.sk-text-repr-fallback {\n",
       "  display: none;\n",
       "}\n",
       "\n",
       "div.sk-parallel-item,\n",
       "div.sk-serial,\n",
       "div.sk-item {\n",
       "  /* draw centered vertical line to link estimators */\n",
       "  background-image: linear-gradient(var(--sklearn-color-text-on-default-background), var(--sklearn-color-text-on-default-background));\n",
       "  background-size: 2px 100%;\n",
       "  background-repeat: no-repeat;\n",
       "  background-position: center center;\n",
       "}\n",
       "\n",
       "/* Parallel-specific style estimator block */\n",
       "\n",
       "#sk-container-id-2 div.sk-parallel-item::after {\n",
       "  content: \"\";\n",
       "  width: 100%;\n",
       "  border-bottom: 2px solid var(--sklearn-color-text-on-default-background);\n",
       "  flex-grow: 1;\n",
       "}\n",
       "\n",
       "#sk-container-id-2 div.sk-parallel {\n",
       "  display: flex;\n",
       "  align-items: stretch;\n",
       "  justify-content: center;\n",
       "  background-color: var(--sklearn-color-background);\n",
       "  position: relative;\n",
       "}\n",
       "\n",
       "#sk-container-id-2 div.sk-parallel-item {\n",
       "  display: flex;\n",
       "  flex-direction: column;\n",
       "}\n",
       "\n",
       "#sk-container-id-2 div.sk-parallel-item:first-child::after {\n",
       "  align-self: flex-end;\n",
       "  width: 50%;\n",
       "}\n",
       "\n",
       "#sk-container-id-2 div.sk-parallel-item:last-child::after {\n",
       "  align-self: flex-start;\n",
       "  width: 50%;\n",
       "}\n",
       "\n",
       "#sk-container-id-2 div.sk-parallel-item:only-child::after {\n",
       "  width: 0;\n",
       "}\n",
       "\n",
       "/* Serial-specific style estimator block */\n",
       "\n",
       "#sk-container-id-2 div.sk-serial {\n",
       "  display: flex;\n",
       "  flex-direction: column;\n",
       "  align-items: center;\n",
       "  background-color: var(--sklearn-color-background);\n",
       "  padding-right: 1em;\n",
       "  padding-left: 1em;\n",
       "}\n",
       "\n",
       "\n",
       "/* Toggleable style: style used for estimator/Pipeline/ColumnTransformer box that is\n",
       "clickable and can be expanded/collapsed.\n",
       "- Pipeline and ColumnTransformer use this feature and define the default style\n",
       "- Estimators will overwrite some part of the style using the `sk-estimator` class\n",
       "*/\n",
       "\n",
       "/* Pipeline and ColumnTransformer style (default) */\n",
       "\n",
       "#sk-container-id-2 div.sk-toggleable {\n",
       "  /* Default theme specific background. It is overwritten whether we have a\n",
       "  specific estimator or a Pipeline/ColumnTransformer */\n",
       "  background-color: var(--sklearn-color-background);\n",
       "}\n",
       "\n",
       "/* Toggleable label */\n",
       "#sk-container-id-2 label.sk-toggleable__label {\n",
       "  cursor: pointer;\n",
       "  display: block;\n",
       "  width: 100%;\n",
       "  margin-bottom: 0;\n",
       "  padding: 0.5em;\n",
       "  box-sizing: border-box;\n",
       "  text-align: center;\n",
       "}\n",
       "\n",
       "#sk-container-id-2 label.sk-toggleable__label-arrow:before {\n",
       "  /* Arrow on the left of the label */\n",
       "  content: \"▸\";\n",
       "  float: left;\n",
       "  margin-right: 0.25em;\n",
       "  color: var(--sklearn-color-icon);\n",
       "}\n",
       "\n",
       "#sk-container-id-2 label.sk-toggleable__label-arrow:hover:before {\n",
       "  color: var(--sklearn-color-text);\n",
       "}\n",
       "\n",
       "/* Toggleable content - dropdown */\n",
       "\n",
       "#sk-container-id-2 div.sk-toggleable__content {\n",
       "  max-height: 0;\n",
       "  max-width: 0;\n",
       "  overflow: hidden;\n",
       "  text-align: left;\n",
       "  /* unfitted */\n",
       "  background-color: var(--sklearn-color-unfitted-level-0);\n",
       "}\n",
       "\n",
       "#sk-container-id-2 div.sk-toggleable__content.fitted {\n",
       "  /* fitted */\n",
       "  background-color: var(--sklearn-color-fitted-level-0);\n",
       "}\n",
       "\n",
       "#sk-container-id-2 div.sk-toggleable__content pre {\n",
       "  margin: 0.2em;\n",
       "  border-radius: 0.25em;\n",
       "  color: var(--sklearn-color-text);\n",
       "  /* unfitted */\n",
       "  background-color: var(--sklearn-color-unfitted-level-0);\n",
       "}\n",
       "\n",
       "#sk-container-id-2 div.sk-toggleable__content.fitted pre {\n",
       "  /* unfitted */\n",
       "  background-color: var(--sklearn-color-fitted-level-0);\n",
       "}\n",
       "\n",
       "#sk-container-id-2 input.sk-toggleable__control:checked~div.sk-toggleable__content {\n",
       "  /* Expand drop-down */\n",
       "  max-height: 200px;\n",
       "  max-width: 100%;\n",
       "  overflow: auto;\n",
       "}\n",
       "\n",
       "#sk-container-id-2 input.sk-toggleable__control:checked~label.sk-toggleable__label-arrow:before {\n",
       "  content: \"▾\";\n",
       "}\n",
       "\n",
       "/* Pipeline/ColumnTransformer-specific style */\n",
       "\n",
       "#sk-container-id-2 div.sk-label input.sk-toggleable__control:checked~label.sk-toggleable__label {\n",
       "  color: var(--sklearn-color-text);\n",
       "  background-color: var(--sklearn-color-unfitted-level-2);\n",
       "}\n",
       "\n",
       "#sk-container-id-2 div.sk-label.fitted input.sk-toggleable__control:checked~label.sk-toggleable__label {\n",
       "  background-color: var(--sklearn-color-fitted-level-2);\n",
       "}\n",
       "\n",
       "/* Estimator-specific style */\n",
       "\n",
       "/* Colorize estimator box */\n",
       "#sk-container-id-2 div.sk-estimator input.sk-toggleable__control:checked~label.sk-toggleable__label {\n",
       "  /* unfitted */\n",
       "  background-color: var(--sklearn-color-unfitted-level-2);\n",
       "}\n",
       "\n",
       "#sk-container-id-2 div.sk-estimator.fitted input.sk-toggleable__control:checked~label.sk-toggleable__label {\n",
       "  /* fitted */\n",
       "  background-color: var(--sklearn-color-fitted-level-2);\n",
       "}\n",
       "\n",
       "#sk-container-id-2 div.sk-label label.sk-toggleable__label,\n",
       "#sk-container-id-2 div.sk-label label {\n",
       "  /* The background is the default theme color */\n",
       "  color: var(--sklearn-color-text-on-default-background);\n",
       "}\n",
       "\n",
       "/* On hover, darken the color of the background */\n",
       "#sk-container-id-2 div.sk-label:hover label.sk-toggleable__label {\n",
       "  color: var(--sklearn-color-text);\n",
       "  background-color: var(--sklearn-color-unfitted-level-2);\n",
       "}\n",
       "\n",
       "/* Label box, darken color on hover, fitted */\n",
       "#sk-container-id-2 div.sk-label.fitted:hover label.sk-toggleable__label.fitted {\n",
       "  color: var(--sklearn-color-text);\n",
       "  background-color: var(--sklearn-color-fitted-level-2);\n",
       "}\n",
       "\n",
       "/* Estimator label */\n",
       "\n",
       "#sk-container-id-2 div.sk-label label {\n",
       "  font-family: monospace;\n",
       "  font-weight: bold;\n",
       "  display: inline-block;\n",
       "  line-height: 1.2em;\n",
       "}\n",
       "\n",
       "#sk-container-id-2 div.sk-label-container {\n",
       "  text-align: center;\n",
       "}\n",
       "\n",
       "/* Estimator-specific */\n",
       "#sk-container-id-2 div.sk-estimator {\n",
       "  font-family: monospace;\n",
       "  border: 1px dotted var(--sklearn-color-border-box);\n",
       "  border-radius: 0.25em;\n",
       "  box-sizing: border-box;\n",
       "  margin-bottom: 0.5em;\n",
       "  /* unfitted */\n",
       "  background-color: var(--sklearn-color-unfitted-level-0);\n",
       "}\n",
       "\n",
       "#sk-container-id-2 div.sk-estimator.fitted {\n",
       "  /* fitted */\n",
       "  background-color: var(--sklearn-color-fitted-level-0);\n",
       "}\n",
       "\n",
       "/* on hover */\n",
       "#sk-container-id-2 div.sk-estimator:hover {\n",
       "  /* unfitted */\n",
       "  background-color: var(--sklearn-color-unfitted-level-2);\n",
       "}\n",
       "\n",
       "#sk-container-id-2 div.sk-estimator.fitted:hover {\n",
       "  /* fitted */\n",
       "  background-color: var(--sklearn-color-fitted-level-2);\n",
       "}\n",
       "\n",
       "/* Specification for estimator info (e.g. \"i\" and \"?\") */\n",
       "\n",
       "/* Common style for \"i\" and \"?\" */\n",
       "\n",
       ".sk-estimator-doc-link,\n",
       "a:link.sk-estimator-doc-link,\n",
       "a:visited.sk-estimator-doc-link {\n",
       "  float: right;\n",
       "  font-size: smaller;\n",
       "  line-height: 1em;\n",
       "  font-family: monospace;\n",
       "  background-color: var(--sklearn-color-background);\n",
       "  border-radius: 1em;\n",
       "  height: 1em;\n",
       "  width: 1em;\n",
       "  text-decoration: none !important;\n",
       "  margin-left: 1ex;\n",
       "  /* unfitted */\n",
       "  border: var(--sklearn-color-unfitted-level-1) 1pt solid;\n",
       "  color: var(--sklearn-color-unfitted-level-1);\n",
       "}\n",
       "\n",
       ".sk-estimator-doc-link.fitted,\n",
       "a:link.sk-estimator-doc-link.fitted,\n",
       "a:visited.sk-estimator-doc-link.fitted {\n",
       "  /* fitted */\n",
       "  border: var(--sklearn-color-fitted-level-1) 1pt solid;\n",
       "  color: var(--sklearn-color-fitted-level-1);\n",
       "}\n",
       "\n",
       "/* On hover */\n",
       "div.sk-estimator:hover .sk-estimator-doc-link:hover,\n",
       ".sk-estimator-doc-link:hover,\n",
       "div.sk-label-container:hover .sk-estimator-doc-link:hover,\n",
       ".sk-estimator-doc-link:hover {\n",
       "  /* unfitted */\n",
       "  background-color: var(--sklearn-color-unfitted-level-3);\n",
       "  color: var(--sklearn-color-background);\n",
       "  text-decoration: none;\n",
       "}\n",
       "\n",
       "div.sk-estimator.fitted:hover .sk-estimator-doc-link.fitted:hover,\n",
       ".sk-estimator-doc-link.fitted:hover,\n",
       "div.sk-label-container:hover .sk-estimator-doc-link.fitted:hover,\n",
       ".sk-estimator-doc-link.fitted:hover {\n",
       "  /* fitted */\n",
       "  background-color: var(--sklearn-color-fitted-level-3);\n",
       "  color: var(--sklearn-color-background);\n",
       "  text-decoration: none;\n",
       "}\n",
       "\n",
       "/* Span, style for the box shown on hovering the info icon */\n",
       ".sk-estimator-doc-link span {\n",
       "  display: none;\n",
       "  z-index: 9999;\n",
       "  position: relative;\n",
       "  font-weight: normal;\n",
       "  right: .2ex;\n",
       "  padding: .5ex;\n",
       "  margin: .5ex;\n",
       "  width: min-content;\n",
       "  min-width: 20ex;\n",
       "  max-width: 50ex;\n",
       "  color: var(--sklearn-color-text);\n",
       "  box-shadow: 2pt 2pt 4pt #999;\n",
       "  /* unfitted */\n",
       "  background: var(--sklearn-color-unfitted-level-0);\n",
       "  border: .5pt solid var(--sklearn-color-unfitted-level-3);\n",
       "}\n",
       "\n",
       ".sk-estimator-doc-link.fitted span {\n",
       "  /* fitted */\n",
       "  background: var(--sklearn-color-fitted-level-0);\n",
       "  border: var(--sklearn-color-fitted-level-3);\n",
       "}\n",
       "\n",
       ".sk-estimator-doc-link:hover span {\n",
       "  display: block;\n",
       "}\n",
       "\n",
       "/* \"?\"-specific style due to the `<a>` HTML tag */\n",
       "\n",
       "#sk-container-id-2 a.estimator_doc_link {\n",
       "  float: right;\n",
       "  font-size: 1rem;\n",
       "  line-height: 1em;\n",
       "  font-family: monospace;\n",
       "  background-color: var(--sklearn-color-background);\n",
       "  border-radius: 1rem;\n",
       "  height: 1rem;\n",
       "  width: 1rem;\n",
       "  text-decoration: none;\n",
       "  /* unfitted */\n",
       "  color: var(--sklearn-color-unfitted-level-1);\n",
       "  border: var(--sklearn-color-unfitted-level-1) 1pt solid;\n",
       "}\n",
       "\n",
       "#sk-container-id-2 a.estimator_doc_link.fitted {\n",
       "  /* fitted */\n",
       "  border: var(--sklearn-color-fitted-level-1) 1pt solid;\n",
       "  color: var(--sklearn-color-fitted-level-1);\n",
       "}\n",
       "\n",
       "/* On hover */\n",
       "#sk-container-id-2 a.estimator_doc_link:hover {\n",
       "  /* unfitted */\n",
       "  background-color: var(--sklearn-color-unfitted-level-3);\n",
       "  color: var(--sklearn-color-background);\n",
       "  text-decoration: none;\n",
       "}\n",
       "\n",
       "#sk-container-id-2 a.estimator_doc_link.fitted:hover {\n",
       "  /* fitted */\n",
       "  background-color: var(--sklearn-color-fitted-level-3);\n",
       "}\n",
       "</style><div id=\"sk-container-id-2\" class=\"sk-top-container\"><div class=\"sk-text-repr-fallback\"><pre>XGBRegressor(base_score=None, booster=None, callbacks=None,\n",
       "             colsample_bylevel=None, colsample_bynode=None,\n",
       "             colsample_bytree=0.8, device=None, early_stopping_rounds=None,\n",
       "             enable_categorical=False, eval_metric=None, feature_types=None,\n",
       "             feature_weights=None, gamma=None, grow_policy=None,\n",
       "             importance_type=None, interaction_constraints=None,\n",
       "             learning_rate=0.1, max_bin=None, max_cat_threshold=None,\n",
       "             max_cat_to_onehot=None, max_delta_step=None, max_depth=6,\n",
       "             max_leaves=None, min_child_weight=None, missing=nan,\n",
       "             monotone_constraints=None, multi_strategy=None, n_estimators=250,\n",
       "             n_jobs=-1, num_parallel_tree=None, ...)</pre><b>In a Jupyter environment, please rerun this cell to show the HTML representation or trust the notebook. <br />On GitHub, the HTML representation is unable to render, please try loading this page with nbviewer.org.</b></div><div class=\"sk-container\" hidden><div class=\"sk-item\"><div class=\"sk-estimator fitted sk-toggleable\"><input class=\"sk-toggleable__control sk-hidden--visually\" id=\"sk-estimator-id-2\" type=\"checkbox\" checked><label for=\"sk-estimator-id-2\" class=\"sk-toggleable__label fitted sk-toggleable__label-arrow fitted\">&nbsp;&nbsp;XGBRegressor<a class=\"sk-estimator-doc-link fitted\" rel=\"noreferrer\" target=\"_blank\" href=\"https://xgboost.readthedocs.io/en/release_3.0.0/python/python_api.html#xgboost.XGBRegressor\">?<span>Documentation for XGBRegressor</span></a><span class=\"sk-estimator-doc-link fitted\">i<span>Fitted</span></span></label><div class=\"sk-toggleable__content fitted\"><pre>XGBRegressor(base_score=None, booster=None, callbacks=None,\n",
       "             colsample_bylevel=None, colsample_bynode=None,\n",
       "             colsample_bytree=0.8, device=None, early_stopping_rounds=None,\n",
       "             enable_categorical=False, eval_metric=None, feature_types=None,\n",
       "             feature_weights=None, gamma=None, grow_policy=None,\n",
       "             importance_type=None, interaction_constraints=None,\n",
       "             learning_rate=0.1, max_bin=None, max_cat_threshold=None,\n",
       "             max_cat_to_onehot=None, max_delta_step=None, max_depth=6,\n",
       "             max_leaves=None, min_child_weight=None, missing=nan,\n",
       "             monotone_constraints=None, multi_strategy=None, n_estimators=250,\n",
       "             n_jobs=-1, num_parallel_tree=None, ...)</pre></div> </div></div></div></div>"
      ],
      "text/plain": [
       "XGBRegressor(base_score=None, booster=None, callbacks=None,\n",
       "             colsample_bylevel=None, colsample_bynode=None,\n",
       "             colsample_bytree=0.8, device=None, early_stopping_rounds=None,\n",
       "             enable_categorical=False, eval_metric=None, feature_types=None,\n",
       "             feature_weights=None, gamma=None, grow_policy=None,\n",
       "             importance_type=None, interaction_constraints=None,\n",
       "             learning_rate=0.1, max_bin=None, max_cat_threshold=None,\n",
       "             max_cat_to_onehot=None, max_delta_step=None, max_depth=6,\n",
       "             max_leaves=None, min_child_weight=None, missing=nan,\n",
       "             monotone_constraints=None, multi_strategy=None, n_estimators=250,\n",
       "             n_jobs=-1, num_parallel_tree=None, ...)"
      ]
     },
     "execution_count": 54,
     "metadata": {},
     "output_type": "execute_result"
    }
   ],
   "source": [
    "xgb_model = xgb.fit(X_train, y_train)\n",
    "xgb_model"
   ]
  },
  {
   "cell_type": "code",
   "execution_count": 55,
   "id": "7cb4e7cc-13a6-407c-9b9e-d1c6625d0f5a",
   "metadata": {},
   "outputs": [
    {
     "name": "stdout",
     "output_type": "stream",
     "text": [
      "\n",
      "Random Forest array of prediction:  [21726.03939653 26935.57371498 24666.93076468 ... 28071.03017022\n",
      " 17425.40665399 24985.70580074]\n",
      "\n",
      "XGBoost array of predictions:  [25827.457 25071.488 25344.344 ... 29303.895 21778.809 22301.598]\n"
     ]
    }
   ],
   "source": [
    "#make predictions \n",
    "#random forest predictions \n",
    "rf_model_pred = rf_model.predict(X_test)\n",
    "\n",
    "#XGBoost predictions\n",
    "xgb_model_pred = xgb_model.predict(X_test)\n",
    "\n",
    "print ('\\nRandom Forest array of prediction: ', rf_model_pred)\n",
    "print('\\nXGBoost array of predictions: ', xgb_model_pred)"
   ]
  },
  {
   "cell_type": "code",
   "execution_count": 56,
   "id": "5aa49a1f-233c-4086-b260-b4ddf8ae7b5e",
   "metadata": {},
   "outputs": [],
   "source": [
    "#model evaluation \n",
    "#since the target variable is billing amount a continuous variavble it means we use regression metrics \n",
    "from sklearn.metrics import mean_absolute_error, mean_squared_error, r2_score"
   ]
  },
  {
   "cell_type": "code",
   "execution_count": 57,
   "id": "ad00e821-74e2-48f2-9672-994a3939a447",
   "metadata": {},
   "outputs": [
    {
     "name": "stdout",
     "output_type": "stream",
     "text": [
      "Random Forest Metric Results: \n",
      "\n",
      "MAE :  11873.439410911209\n",
      "RMSE:  13961.57926729155\n",
      "R2_Score:  0.039679921028277554\n"
     ]
    }
   ],
   "source": [
    "#random forest evaluation \n",
    "rf_mae = mean_absolute_error(y_test, rf_model_pred)\n",
    "rf_rmse = np.sqrt(mean_squared_error(y_test, rf_model_pred))\n",
    "rf_r2 =r2_score(y_test, rf_model_pred)\n",
    "\n",
    "print(\"Random Forest Metric Results: \")\n",
    "print('\\nMAE : ', rf_mae)\n",
    "print('RMSE: ', rf_rmse)\n",
    "print('R2_Score: ', rf_r2)"
   ]
  },
  {
   "cell_type": "code",
   "execution_count": 58,
   "id": "82554162-5b0b-46e7-8a56-faabfafeed87",
   "metadata": {},
   "outputs": [
    {
     "name": "stdout",
     "output_type": "stream",
     "text": [
      "XGBoost Metric Results: \n",
      "\n",
      "MAE :  12351.27459886874\n",
      "RMSE:  14356.527010873351\n",
      "R2_Score:  -0.015419972668275994\n"
     ]
    }
   ],
   "source": [
    "#XGBoost evaluation \n",
    "xgb_mae = mean_absolute_error(y_test, xgb_model_pred)\n",
    "xgb_rmse = np.sqrt(mean_squared_error(y_test, xgb_model_pred))\n",
    "xgb_r2 =r2_score(y_test, xgb_model_pred)\n",
    "\n",
    "print(\"XGBoost Metric Results: \")\n",
    "print('\\nMAE : ', xgb_mae)\n",
    "print('RMSE: ', xgb_rmse)\n",
    "print('R2_Score: ', xgb_r2)"
   ]
  },
  {
   "cell_type": "code",
   "execution_count": null,
   "id": "dbdb6b1e-2c14-47be-ad52-b4884c72b892",
   "metadata": {},
   "outputs": [],
   "source": []
  },
  {
   "cell_type": "markdown",
   "id": "c2ecc182-8c9c-4079-a328-6101cfcf4758",
   "metadata": {},
   "source": [
    "<b> Both models struggling to predict the billing amount. the billing amount variances are large showiing values are widely distributed. \n",
    "There is much more to uncover, i.e. hyperparameter tuning, feature analysis "
   ]
  },
  {
   "cell_type": "code",
   "execution_count": 61,
   "id": "0bc218c2-90d3-4196-a2ee-96a387b545b1",
   "metadata": {},
   "outputs": [
    {
     "data": {
      "image/png": "[encoded data removed]",
      "text/plain": [
       "<Figure size 1000x600 with 2 Axes>"
      ]
     },
     "metadata": {},
     "output_type": "display_data"
    }
   ],
   "source": [
    "plt.figure(figsize=(10,6))\n",
    "sns.heatmap(pd.DataFrame(X, columns=df1.columns).corr(), annot=False, cmap=\"cividis\")\n",
    "plt.title(\"Feature Correlation Heatmap\")\n",
    "plt.show()"
   ]
  },
  {
   "cell_type": "markdown",
   "id": "735a42c6-3b2a-48d7-bbb2-b18e643e1c4c",
   "metadata": {},
   "source": [
    "<b> Well, from the visual above, the results shows these features have a low correlation relationship. This hence this affects model perfomances as they show large margin on errors."
   ]
  },
  {
   "cell_type": "code",
   "execution_count": null,
   "id": "c6efc30e-e3ce-4a0d-bab9-2987e92baa22",
   "metadata": {},
   "outputs": [],
   "source": []
  },
  {
   "cell_type": "markdown",
   "id": "1df70b16-2a05-46bf-99f0-2e8f6d8073d1",
   "metadata": {},
   "source": [
    "## <b>Conclusion and Recomendations \n",
    "1. Data Understanding and cleaning was well performed. Identifier features were drope, no missing values were available and invalida dates were inspected and standardised to match the format.\n",
    "2. On feature engineering, few features were obtained from the onews existing. managed to engineer length of stay in which a patient was amited also admission month. Also performed label encoding. label encoding was used over th one hot encoding as these 2 models do ot suit well with dummy values.\n",
    "3. EDA - the most important part of the project. Tree map and heatmap were used to analyse the relationship among features.\n",
    "4. Model development - 2 models developed Random Foreest regressor and XGBoost, both performing awkwardly, though the Random forest was slightly better. Both mddels failed to capture the patterns in Billing amount.\n",
    "\n",
    "### <b> Recommendations \n",
    "1. more to model refinement as the existing models are basing on fixed hyperparameters.\n",
    "2. feature evaluation - usage of techniques like SHAP for feaature importance as some features might not be neccessaary but a distractuction to model performance.\n",
    "\n",
    "\n"
   ]
  },
  {
   "cell_type": "code",
   "execution_count": null,
   "id": "6070b6a7-05ed-4028-8a30-4144b6da9059",
   "metadata": {},
   "outputs": [],
   "source": []
  },
  {
   "cell_type": "code",
   "execution_count": null,
   "id": "98514888-37c0-4616-aa6f-f3745f6dff80",
   "metadata": {},
   "outputs": [],
   "source": []
  }
 ],
 "metadata": {
  "kernelspec": {
   "display_name": "Python 3 (ipykernel)",
   "language": "python",
   "name": "python3"
  },
  "language_info": {
   "codemirror_mode": {
    "name": "ipython",
    "version": 3
   },
   "file_extension": ".py",
   "mimetype": "text/x-python",
   "name": "python",
   "nbconvert_exporter": "python",
   "pygments_lexer": "ipython3",
   "version": "3.12.7"
  }
 },
 "nbformat": 4,
 "nbformat_minor": 5
}
